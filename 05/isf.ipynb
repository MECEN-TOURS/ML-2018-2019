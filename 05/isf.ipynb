{
 "cells": [
  {
   "cell_type": "markdown",
   "metadata": {},
   "source": [
    "# Imports"
   ]
  },
  {
   "cell_type": "code",
   "execution_count": 1,
   "metadata": {},
   "outputs": [],
   "source": [
    "import pandas as pd\n",
    "import numpy as np\n",
    "import matplotlib.pyplot as plt"
   ]
  },
  {
   "cell_type": "code",
   "execution_count": 2,
   "metadata": {},
   "outputs": [],
   "source": [
    "%matplotlib inline"
   ]
  },
  {
   "cell_type": "code",
   "execution_count": 3,
   "metadata": {},
   "outputs": [],
   "source": [
    "plt.style.use(\"seaborn\")"
   ]
  },
  {
   "cell_type": "code",
   "execution_count": 4,
   "metadata": {},
   "outputs": [],
   "source": [
    "plt.rcParams[\"figure.figsize\"] = (12, 8)"
   ]
  },
  {
   "cell_type": "markdown",
   "metadata": {},
   "source": [
    "# Chargement du fichier/ spécificité des format excel"
   ]
  },
  {
   "cell_type": "code",
   "execution_count": 5,
   "metadata": {},
   "outputs": [],
   "source": [
    "df = pd.read_excel(\"isfcom2017.xlsx\")"
   ]
  },
  {
   "cell_type": "code",
   "execution_count": 6,
   "metadata": {},
   "outputs": [
    {
     "data": {
      "text/html": [
       "<div>\n",
       "<style scoped>\n",
       "    .dataframe tbody tr th:only-of-type {\n",
       "        vertical-align: middle;\n",
       "    }\n",
       "\n",
       "    .dataframe tbody tr th {\n",
       "        vertical-align: top;\n",
       "    }\n",
       "\n",
       "    .dataframe thead th {\n",
       "        text-align: right;\n",
       "    }\n",
       "</style>\n",
       "<table border=\"1\" class=\"dataframe\">\n",
       "  <thead>\n",
       "    <tr style=\"text-align: right;\">\n",
       "      <th></th>\n",
       "      <th>Unnamed: 0</th>\n",
       "      <th>Unnamed: 1</th>\n",
       "      <th>Unnamed: 2</th>\n",
       "      <th>Unnamed: 3</th>\n",
       "      <th>Unnamed: 4</th>\n",
       "      <th>Unnamed: 5</th>\n",
       "      <th>Unnamed: 6</th>\n",
       "      <th>Unnamed: 7</th>\n",
       "      <th>Unnamed: 8</th>\n",
       "    </tr>\n",
       "  </thead>\n",
       "  <tbody>\n",
       "    <tr>\n",
       "      <th>0</th>\n",
       "      <td>NaN</td>\n",
       "      <td>NaN</td>\n",
       "      <td>NaN</td>\n",
       "      <td>NaN</td>\n",
       "      <td>AVERTISSEMENT</td>\n",
       "      <td>NaN</td>\n",
       "      <td>NaN</td>\n",
       "      <td>NaN</td>\n",
       "      <td>NaN</td>\n",
       "    </tr>\n",
       "    <tr>\n",
       "      <th>1</th>\n",
       "      <td>NaN</td>\n",
       "      <td>NaN</td>\n",
       "      <td>NaN</td>\n",
       "      <td>NaN</td>\n",
       "      <td>NaN</td>\n",
       "      <td>NaN</td>\n",
       "      <td>NaN</td>\n",
       "      <td>NaN</td>\n",
       "      <td>NaN</td>\n",
       "    </tr>\n",
       "    <tr>\n",
       "      <th>2</th>\n",
       "      <td>NaN</td>\n",
       "      <td>NaN</td>\n",
       "      <td>NaN</td>\n",
       "      <td>NaN</td>\n",
       "      <td>NaN</td>\n",
       "      <td>NaN</td>\n",
       "      <td>NaN</td>\n",
       "      <td>NaN</td>\n",
       "      <td>NaN</td>\n",
       "    </tr>\n",
       "    <tr>\n",
       "      <th>3</th>\n",
       "      <td>NaN</td>\n",
       "      <td>NaN</td>\n",
       "      <td>NaN</td>\n",
       "      <td>NaN</td>\n",
       "      <td>NaN</td>\n",
       "      <td>NaN</td>\n",
       "      <td>NaN</td>\n",
       "      <td>NaN</td>\n",
       "      <td>NaN</td>\n",
       "    </tr>\n",
       "    <tr>\n",
       "      <th>4</th>\n",
       "      <td>NaN</td>\n",
       "      <td>NaN</td>\n",
       "      <td>NaN</td>\n",
       "      <td>NaN</td>\n",
       "      <td>NaN</td>\n",
       "      <td>NaN</td>\n",
       "      <td>NaN</td>\n",
       "      <td>NaN</td>\n",
       "      <td>NaN</td>\n",
       "    </tr>\n",
       "  </tbody>\n",
       "</table>\n",
       "</div>"
      ],
      "text/plain": [
       "   Unnamed: 0 Unnamed: 1  Unnamed: 2  Unnamed: 3     Unnamed: 4  Unnamed: 5  \\\n",
       "0         NaN        NaN         NaN         NaN  AVERTISSEMENT         NaN   \n",
       "1         NaN        NaN         NaN         NaN            NaN         NaN   \n",
       "2         NaN        NaN         NaN         NaN            NaN         NaN   \n",
       "3         NaN        NaN         NaN         NaN            NaN         NaN   \n",
       "4         NaN        NaN         NaN         NaN            NaN         NaN   \n",
       "\n",
       "   Unnamed: 6  Unnamed: 7  Unnamed: 8  \n",
       "0         NaN         NaN         NaN  \n",
       "1         NaN         NaN         NaN  \n",
       "2         NaN         NaN         NaN  \n",
       "3         NaN         NaN         NaN  \n",
       "4         NaN         NaN         NaN  "
      ]
     },
     "execution_count": 6,
     "metadata": {},
     "output_type": "execute_result"
    }
   ],
   "source": [
    "df.head()"
   ]
  },
  {
   "cell_type": "code",
   "execution_count": 7,
   "metadata": {},
   "outputs": [],
   "source": [
    "fichier = pd.ExcelFile(\"isfcom2017.xlsx\")"
   ]
  },
  {
   "cell_type": "code",
   "execution_count": 8,
   "metadata": {},
   "outputs": [
    {
     "data": {
      "text/plain": [
       "['Avertissement', 'définitif', 'définitif_patrimoine']"
      ]
     },
     "execution_count": 8,
     "metadata": {},
     "output_type": "execute_result"
    }
   ],
   "source": [
    "fichier.sheet_names"
   ]
  },
  {
   "cell_type": "code",
   "execution_count": 9,
   "metadata": {},
   "outputs": [],
   "source": [
    "df = fichier.parse(sheet_name=\"définitif\", skiprows=1)"
   ]
  },
  {
   "cell_type": "markdown",
   "metadata": {},
   "source": [
    "# Découverte du jeu de données"
   ]
  },
  {
   "cell_type": "code",
   "execution_count": 10,
   "metadata": {},
   "outputs": [
    {
     "data": {
      "text/html": [
       "<div>\n",
       "<style scoped>\n",
       "    .dataframe tbody tr th:only-of-type {\n",
       "        vertical-align: middle;\n",
       "    }\n",
       "\n",
       "    .dataframe tbody tr th {\n",
       "        vertical-align: top;\n",
       "    }\n",
       "\n",
       "    .dataframe thead th {\n",
       "        text-align: right;\n",
       "    }\n",
       "</style>\n",
       "<table border=\"1\" class=\"dataframe\">\n",
       "  <thead>\n",
       "    <tr style=\"text-align: right;\">\n",
       "      <th></th>\n",
       "      <th>Région</th>\n",
       "      <th>Départements</th>\n",
       "      <th>Code commune (INSEE)</th>\n",
       "      <th>Commune</th>\n",
       "      <th>nombre de redevables</th>\n",
       "      <th>patrimoine moyen en €</th>\n",
       "      <th>impôt moyen en €</th>\n",
       "    </tr>\n",
       "  </thead>\n",
       "  <tbody>\n",
       "    <tr>\n",
       "      <th>0</th>\n",
       "      <td>AUVERGNE-RHONE-ALPES</td>\n",
       "      <td>AIN</td>\n",
       "      <td>01 053</td>\n",
       "      <td>BOURG-EN-BRESSE</td>\n",
       "      <td>157</td>\n",
       "      <td>2261155</td>\n",
       "      <td>8297</td>\n",
       "    </tr>\n",
       "    <tr>\n",
       "      <th>1</th>\n",
       "      <td>AUVERGNE-RHONE-ALPES</td>\n",
       "      <td>AIN</td>\n",
       "      <td>01 283</td>\n",
       "      <td>OYONNAX</td>\n",
       "      <td>88</td>\n",
       "      <td>3236170</td>\n",
       "      <td>12078</td>\n",
       "    </tr>\n",
       "    <tr>\n",
       "      <th>2</th>\n",
       "      <td>AUVERGNE-RHONE-ALPES</td>\n",
       "      <td>ALLIER</td>\n",
       "      <td>03 185</td>\n",
       "      <td>MONTLUCON</td>\n",
       "      <td>111</td>\n",
       "      <td>2591793</td>\n",
       "      <td>9721</td>\n",
       "    </tr>\n",
       "    <tr>\n",
       "      <th>3</th>\n",
       "      <td>AUVERGNE-RHONE-ALPES</td>\n",
       "      <td>ALLIER</td>\n",
       "      <td>03 190</td>\n",
       "      <td>MOULINS</td>\n",
       "      <td>59</td>\n",
       "      <td>2524509</td>\n",
       "      <td>10026</td>\n",
       "    </tr>\n",
       "    <tr>\n",
       "      <th>4</th>\n",
       "      <td>AUVERGNE-RHONE-ALPES</td>\n",
       "      <td>ALLIER</td>\n",
       "      <td>03 310</td>\n",
       "      <td>VICHY</td>\n",
       "      <td>177</td>\n",
       "      <td>2369664</td>\n",
       "      <td>7316</td>\n",
       "    </tr>\n",
       "  </tbody>\n",
       "</table>\n",
       "</div>"
      ],
      "text/plain": [
       "                 Région Départements Code commune (INSEE)          Commune  \\\n",
       "0  AUVERGNE-RHONE-ALPES          AIN               01 053  BOURG-EN-BRESSE   \n",
       "1  AUVERGNE-RHONE-ALPES          AIN               01 283          OYONNAX   \n",
       "2  AUVERGNE-RHONE-ALPES       ALLIER               03 185        MONTLUCON   \n",
       "3  AUVERGNE-RHONE-ALPES       ALLIER               03 190          MOULINS   \n",
       "4  AUVERGNE-RHONE-ALPES       ALLIER               03 310            VICHY   \n",
       "\n",
       "   nombre de redevables  patrimoine moyen en €  impôt moyen en €  \n",
       "0                   157                2261155              8297  \n",
       "1                    88                3236170             12078  \n",
       "2                   111                2591793              9721  \n",
       "3                    59                2524509             10026  \n",
       "4                   177                2369664              7316  "
      ]
     },
     "execution_count": 10,
     "metadata": {},
     "output_type": "execute_result"
    }
   ],
   "source": [
    "df.head()"
   ]
  },
  {
   "cell_type": "code",
   "execution_count": 11,
   "metadata": {},
   "outputs": [
    {
     "name": "stdout",
     "output_type": "stream",
     "text": [
      "<class 'pandas.core.frame.DataFrame'>\n",
      "RangeIndex: 388 entries, 0 to 387\n",
      "Data columns (total 7 columns):\n",
      "Région                   388 non-null object\n",
      "Départements             388 non-null object\n",
      "Code commune (INSEE)     388 non-null object\n",
      "Commune                  388 non-null object\n",
      "nombre de redevables     388 non-null int64\n",
      "patrimoine moyen en €    388 non-null int64\n",
      "impôt moyen en €         388 non-null int64\n",
      "dtypes: int64(3), object(4)\n",
      "memory usage: 21.3+ KB\n"
     ]
    }
   ],
   "source": [
    "df.info()"
   ]
  },
  {
   "cell_type": "code",
   "execution_count": 12,
   "metadata": {},
   "outputs": [
    {
     "data": {
      "text/plain": [
       "Index(['Région', 'Départements', 'Code commune (INSEE)', 'Commune',\n",
       "       'nombre de redevables', 'patrimoine moyen en €', 'impôt moyen en €'],\n",
       "      dtype='object')"
      ]
     },
     "execution_count": 12,
     "metadata": {},
     "output_type": "execute_result"
    }
   ],
   "source": [
    "df.columns"
   ]
  },
  {
   "cell_type": "markdown",
   "metadata": {},
   "source": [
    "**Récupérer le nombre de personnes imposables**\n",
    "- par région\n",
    "- par département\n",
    "\n",
    "Puis associer le patrimoine moyen par région/département et l'impot moyen."
   ]
  },
  {
   "cell_type": "code",
   "execution_count": 14,
   "metadata": {},
   "outputs": [
    {
     "data": {
      "text/plain": [
       "Index(['Région', 'Départements', 'Code commune (INSEE)', 'Commune',\n",
       "       'nombre de redevables', 'patrimoine moyen en €', 'impôt moyen en €'],\n",
       "      dtype='object')"
      ]
     },
     "execution_count": 14,
     "metadata": {},
     "output_type": "execute_result"
    }
   ],
   "source": [
    "df.columns"
   ]
  },
  {
   "cell_type": "code",
   "execution_count": 19,
   "metadata": {},
   "outputs": [
    {
     "data": {
      "text/html": [
       "<div>\n",
       "<style scoped>\n",
       "    .dataframe tbody tr th:only-of-type {\n",
       "        vertical-align: middle;\n",
       "    }\n",
       "\n",
       "    .dataframe tbody tr th {\n",
       "        vertical-align: top;\n",
       "    }\n",
       "\n",
       "    .dataframe thead th {\n",
       "        text-align: right;\n",
       "    }\n",
       "</style>\n",
       "<table border=\"1\" class=\"dataframe\">\n",
       "  <thead>\n",
       "    <tr style=\"text-align: right;\">\n",
       "      <th></th>\n",
       "      <th>nombre de redevables</th>\n",
       "    </tr>\n",
       "    <tr>\n",
       "      <th>Départements</th>\n",
       "      <th></th>\n",
       "    </tr>\n",
       "  </thead>\n",
       "  <tbody>\n",
       "    <tr>\n",
       "      <th>AIN</th>\n",
       "      <td>245</td>\n",
       "    </tr>\n",
       "    <tr>\n",
       "      <th>AISNE</th>\n",
       "      <td>385</td>\n",
       "    </tr>\n",
       "    <tr>\n",
       "      <th>ALLIER</th>\n",
       "      <td>347</td>\n",
       "    </tr>\n",
       "    <tr>\n",
       "      <th>ALPES-DE-HAUTE-PROVENCE</th>\n",
       "      <td>127</td>\n",
       "    </tr>\n",
       "    <tr>\n",
       "      <th>ALPES-MARITIMES</th>\n",
       "      <td>8478</td>\n",
       "    </tr>\n",
       "  </tbody>\n",
       "</table>\n",
       "</div>"
      ],
      "text/plain": [
       "                         nombre de redevables\n",
       "Départements                                 \n",
       "AIN                                       245\n",
       "AISNE                                     385\n",
       "ALLIER                                    347\n",
       "ALPES-DE-HAUTE-PROVENCE                   127\n",
       "ALPES-MARITIMES                          8478"
      ]
     },
     "execution_count": 19,
     "metadata": {},
     "output_type": "execute_result"
    }
   ],
   "source": [
    "par_dpt = df.groupby(by=\"Départements\").agg(\"sum\").drop(axis=1, labels=df.columns[-2:])\n",
    "par_dpt.head()"
   ]
  },
  {
   "cell_type": "code",
   "execution_count": 20,
   "metadata": {},
   "outputs": [
    {
     "data": {
      "text/html": [
       "<div>\n",
       "<style scoped>\n",
       "    .dataframe tbody tr th:only-of-type {\n",
       "        vertical-align: middle;\n",
       "    }\n",
       "\n",
       "    .dataframe tbody tr th {\n",
       "        vertical-align: top;\n",
       "    }\n",
       "\n",
       "    .dataframe thead th {\n",
       "        text-align: right;\n",
       "    }\n",
       "</style>\n",
       "<table border=\"1\" class=\"dataframe\">\n",
       "  <thead>\n",
       "    <tr style=\"text-align: right;\">\n",
       "      <th></th>\n",
       "      <th>nombre de redevables</th>\n",
       "    </tr>\n",
       "    <tr>\n",
       "      <th>Région</th>\n",
       "      <th></th>\n",
       "    </tr>\n",
       "  </thead>\n",
       "  <tbody>\n",
       "    <tr>\n",
       "      <th>AUVERGNE-RHONE-ALPES</th>\n",
       "      <td>12674</td>\n",
       "    </tr>\n",
       "    <tr>\n",
       "      <th>BOURGOGNE-FRANCHE-COMTE</th>\n",
       "      <td>2100</td>\n",
       "    </tr>\n",
       "    <tr>\n",
       "      <th>BRETAGNE</th>\n",
       "      <td>3200</td>\n",
       "    </tr>\n",
       "    <tr>\n",
       "      <th>CENTRE-VAL DE LOIRE</th>\n",
       "      <td>2538</td>\n",
       "    </tr>\n",
       "    <tr>\n",
       "      <th>CORSE</th>\n",
       "      <td>395</td>\n",
       "    </tr>\n",
       "  </tbody>\n",
       "</table>\n",
       "</div>"
      ],
      "text/plain": [
       "                         nombre de redevables\n",
       "Région                                       \n",
       "AUVERGNE-RHONE-ALPES                    12674\n",
       "BOURGOGNE-FRANCHE-COMTE                  2100\n",
       "BRETAGNE                                 3200\n",
       "CENTRE-VAL DE LOIRE                      2538\n",
       "CORSE                                     395"
      ]
     },
     "execution_count": 20,
     "metadata": {},
     "output_type": "execute_result"
    }
   ],
   "source": [
    "par_regions = df.groupby(by=\"Région\").agg(\"sum\").drop(axis=1, labels=df.columns[-2:])\n",
    "par_regions.head()"
   ]
  },
  {
   "cell_type": "markdown",
   "metadata": {},
   "source": [
    "**Pour obtenir le patrimoine moyen/impot moyen il faut pondérer par le nombre de redevables, on ne peut pas se contenter d'agréger par la moyenne**"
   ]
  },
  {
   "cell_type": "code",
   "execution_count": 21,
   "metadata": {},
   "outputs": [
    {
     "data": {
      "text/html": [
       "<div>\n",
       "<style scoped>\n",
       "    .dataframe tbody tr th:only-of-type {\n",
       "        vertical-align: middle;\n",
       "    }\n",
       "\n",
       "    .dataframe tbody tr th {\n",
       "        vertical-align: top;\n",
       "    }\n",
       "\n",
       "    .dataframe thead th {\n",
       "        text-align: right;\n",
       "    }\n",
       "</style>\n",
       "<table border=\"1\" class=\"dataframe\">\n",
       "  <thead>\n",
       "    <tr style=\"text-align: right;\">\n",
       "      <th></th>\n",
       "      <th>Région</th>\n",
       "      <th>Départements</th>\n",
       "      <th>Code commune (INSEE)</th>\n",
       "      <th>Commune</th>\n",
       "      <th>nombre de redevables</th>\n",
       "      <th>patrimoine moyen en €</th>\n",
       "      <th>impôt moyen en €</th>\n",
       "      <th>patrimoine_total</th>\n",
       "      <th>imposition_totale</th>\n",
       "    </tr>\n",
       "  </thead>\n",
       "  <tbody>\n",
       "    <tr>\n",
       "      <th>0</th>\n",
       "      <td>AUVERGNE-RHONE-ALPES</td>\n",
       "      <td>AIN</td>\n",
       "      <td>01 053</td>\n",
       "      <td>BOURG-EN-BRESSE</td>\n",
       "      <td>157</td>\n",
       "      <td>2261155</td>\n",
       "      <td>8297</td>\n",
       "      <td>355001335</td>\n",
       "      <td>1302629</td>\n",
       "    </tr>\n",
       "    <tr>\n",
       "      <th>1</th>\n",
       "      <td>AUVERGNE-RHONE-ALPES</td>\n",
       "      <td>AIN</td>\n",
       "      <td>01 283</td>\n",
       "      <td>OYONNAX</td>\n",
       "      <td>88</td>\n",
       "      <td>3236170</td>\n",
       "      <td>12078</td>\n",
       "      <td>284782960</td>\n",
       "      <td>1062864</td>\n",
       "    </tr>\n",
       "    <tr>\n",
       "      <th>2</th>\n",
       "      <td>AUVERGNE-RHONE-ALPES</td>\n",
       "      <td>ALLIER</td>\n",
       "      <td>03 185</td>\n",
       "      <td>MONTLUCON</td>\n",
       "      <td>111</td>\n",
       "      <td>2591793</td>\n",
       "      <td>9721</td>\n",
       "      <td>287689023</td>\n",
       "      <td>1079031</td>\n",
       "    </tr>\n",
       "    <tr>\n",
       "      <th>3</th>\n",
       "      <td>AUVERGNE-RHONE-ALPES</td>\n",
       "      <td>ALLIER</td>\n",
       "      <td>03 190</td>\n",
       "      <td>MOULINS</td>\n",
       "      <td>59</td>\n",
       "      <td>2524509</td>\n",
       "      <td>10026</td>\n",
       "      <td>148946031</td>\n",
       "      <td>591534</td>\n",
       "    </tr>\n",
       "    <tr>\n",
       "      <th>4</th>\n",
       "      <td>AUVERGNE-RHONE-ALPES</td>\n",
       "      <td>ALLIER</td>\n",
       "      <td>03 310</td>\n",
       "      <td>VICHY</td>\n",
       "      <td>177</td>\n",
       "      <td>2369664</td>\n",
       "      <td>7316</td>\n",
       "      <td>419430528</td>\n",
       "      <td>1294932</td>\n",
       "    </tr>\n",
       "  </tbody>\n",
       "</table>\n",
       "</div>"
      ],
      "text/plain": [
       "                 Région Départements Code commune (INSEE)          Commune  \\\n",
       "0  AUVERGNE-RHONE-ALPES          AIN               01 053  BOURG-EN-BRESSE   \n",
       "1  AUVERGNE-RHONE-ALPES          AIN               01 283          OYONNAX   \n",
       "2  AUVERGNE-RHONE-ALPES       ALLIER               03 185        MONTLUCON   \n",
       "3  AUVERGNE-RHONE-ALPES       ALLIER               03 190          MOULINS   \n",
       "4  AUVERGNE-RHONE-ALPES       ALLIER               03 310            VICHY   \n",
       "\n",
       "   nombre de redevables  patrimoine moyen en €  impôt moyen en €  \\\n",
       "0                   157                2261155              8297   \n",
       "1                    88                3236170             12078   \n",
       "2                   111                2591793              9721   \n",
       "3                    59                2524509             10026   \n",
       "4                   177                2369664              7316   \n",
       "\n",
       "   patrimoine_total  imposition_totale  \n",
       "0         355001335            1302629  \n",
       "1         284782960            1062864  \n",
       "2         287689023            1079031  \n",
       "3         148946031             591534  \n",
       "4         419430528            1294932  "
      ]
     },
     "execution_count": 21,
     "metadata": {},
     "output_type": "execute_result"
    }
   ],
   "source": [
    "df[\"patrimoine_total\"] = df[\"patrimoine moyen en €\"]*df[\"nombre de redevables\"]\n",
    "df[\"imposition_totale\"] = df[\"impôt moyen en €\"]*df[\"nombre de redevables\"]\n",
    "df.head()"
   ]
  },
  {
   "cell_type": "code",
   "execution_count": 24,
   "metadata": {},
   "outputs": [
    {
     "data": {
      "text/html": [
       "<div>\n",
       "<style scoped>\n",
       "    .dataframe tbody tr th:only-of-type {\n",
       "        vertical-align: middle;\n",
       "    }\n",
       "\n",
       "    .dataframe tbody tr th {\n",
       "        vertical-align: top;\n",
       "    }\n",
       "\n",
       "    .dataframe thead th {\n",
       "        text-align: right;\n",
       "    }\n",
       "</style>\n",
       "<table border=\"1\" class=\"dataframe\">\n",
       "  <thead>\n",
       "    <tr style=\"text-align: right;\">\n",
       "      <th></th>\n",
       "      <th>nombre de redevables</th>\n",
       "      <th>patrimoine_moyen</th>\n",
       "      <th>imposition_moyenne</th>\n",
       "    </tr>\n",
       "    <tr>\n",
       "      <th>Départements</th>\n",
       "      <th></th>\n",
       "      <th></th>\n",
       "      <th></th>\n",
       "    </tr>\n",
       "  </thead>\n",
       "  <tbody>\n",
       "    <tr>\n",
       "      <th>AIN</th>\n",
       "      <td>245</td>\n",
       "      <td>2611364</td>\n",
       "      <td>9655</td>\n",
       "    </tr>\n",
       "    <tr>\n",
       "      <th>AISNE</th>\n",
       "      <td>385</td>\n",
       "      <td>2543306</td>\n",
       "      <td>11071</td>\n",
       "    </tr>\n",
       "    <tr>\n",
       "      <th>ALLIER</th>\n",
       "      <td>347</td>\n",
       "      <td>2467047</td>\n",
       "      <td>8546</td>\n",
       "    </tr>\n",
       "    <tr>\n",
       "      <th>ALPES-DE-HAUTE-PROVENCE</th>\n",
       "      <td>127</td>\n",
       "      <td>2587327</td>\n",
       "      <td>12326</td>\n",
       "    </tr>\n",
       "    <tr>\n",
       "      <th>ALPES-MARITIMES</th>\n",
       "      <td>8478</td>\n",
       "      <td>2750880</td>\n",
       "      <td>12193</td>\n",
       "    </tr>\n",
       "  </tbody>\n",
       "</table>\n",
       "</div>"
      ],
      "text/plain": [
       "                         nombre de redevables  patrimoine_moyen  \\\n",
       "Départements                                                      \n",
       "AIN                                       245           2611364   \n",
       "AISNE                                     385           2543306   \n",
       "ALLIER                                    347           2467047   \n",
       "ALPES-DE-HAUTE-PROVENCE                   127           2587327   \n",
       "ALPES-MARITIMES                          8478           2750880   \n",
       "\n",
       "                         imposition_moyenne  \n",
       "Départements                                 \n",
       "AIN                                    9655  \n",
       "AISNE                                 11071  \n",
       "ALLIER                                 8546  \n",
       "ALPES-DE-HAUTE-PROVENCE               12326  \n",
       "ALPES-MARITIMES                       12193  "
      ]
     },
     "execution_count": 24,
     "metadata": {},
     "output_type": "execute_result"
    }
   ],
   "source": [
    "par_dpt[\"patrimoine_moyen\"] = (df.groupby(by=\"Départements\").agg(\"sum\")[\"patrimoine_total\"] / par_dpt[\"nombre de redevables\"]).astype(np.int)\n",
    "par_dpt[\"imposition_moyenne\"] = (df.groupby(by=\"Départements\").agg(\"sum\")[\"imposition_totale\"] / par_dpt[\"nombre de redevables\"]).astype(np.int)\n",
    "par_dpt.head()"
   ]
  },
  {
   "cell_type": "code",
   "execution_count": 26,
   "metadata": {},
   "outputs": [
    {
     "data": {
      "text/html": [
       "<div>\n",
       "<style scoped>\n",
       "    .dataframe tbody tr th:only-of-type {\n",
       "        vertical-align: middle;\n",
       "    }\n",
       "\n",
       "    .dataframe tbody tr th {\n",
       "        vertical-align: top;\n",
       "    }\n",
       "\n",
       "    .dataframe thead th {\n",
       "        text-align: right;\n",
       "    }\n",
       "</style>\n",
       "<table border=\"1\" class=\"dataframe\">\n",
       "  <thead>\n",
       "    <tr style=\"text-align: right;\">\n",
       "      <th></th>\n",
       "      <th>nombre de redevables</th>\n",
       "      <th>patrimoine_moyen</th>\n",
       "      <th>imposition_moyenne</th>\n",
       "    </tr>\n",
       "    <tr>\n",
       "      <th>Région</th>\n",
       "      <th></th>\n",
       "      <th></th>\n",
       "      <th></th>\n",
       "    </tr>\n",
       "  </thead>\n",
       "  <tbody>\n",
       "    <tr>\n",
       "      <th>AUVERGNE-RHONE-ALPES</th>\n",
       "      <td>12674</td>\n",
       "      <td>2612040</td>\n",
       "      <td>9818</td>\n",
       "    </tr>\n",
       "    <tr>\n",
       "      <th>BOURGOGNE-FRANCHE-COMTE</th>\n",
       "      <td>2100</td>\n",
       "      <td>2643354</td>\n",
       "      <td>10097</td>\n",
       "    </tr>\n",
       "    <tr>\n",
       "      <th>BRETAGNE</th>\n",
       "      <td>3200</td>\n",
       "      <td>2615544</td>\n",
       "      <td>9645</td>\n",
       "    </tr>\n",
       "    <tr>\n",
       "      <th>CENTRE-VAL DE LOIRE</th>\n",
       "      <td>2538</td>\n",
       "      <td>2449088</td>\n",
       "      <td>9816</td>\n",
       "    </tr>\n",
       "    <tr>\n",
       "      <th>CORSE</th>\n",
       "      <td>395</td>\n",
       "      <td>2682821</td>\n",
       "      <td>11723</td>\n",
       "    </tr>\n",
       "  </tbody>\n",
       "</table>\n",
       "</div>"
      ],
      "text/plain": [
       "                         nombre de redevables  patrimoine_moyen  \\\n",
       "Région                                                            \n",
       "AUVERGNE-RHONE-ALPES                    12674           2612040   \n",
       "BOURGOGNE-FRANCHE-COMTE                  2100           2643354   \n",
       "BRETAGNE                                 3200           2615544   \n",
       "CENTRE-VAL DE LOIRE                      2538           2449088   \n",
       "CORSE                                     395           2682821   \n",
       "\n",
       "                         imposition_moyenne  \n",
       "Région                                       \n",
       "AUVERGNE-RHONE-ALPES                   9818  \n",
       "BOURGOGNE-FRANCHE-COMTE               10097  \n",
       "BRETAGNE                               9645  \n",
       "CENTRE-VAL DE LOIRE                    9816  \n",
       "CORSE                                 11723  "
      ]
     },
     "execution_count": 26,
     "metadata": {},
     "output_type": "execute_result"
    }
   ],
   "source": [
    "par_regions[\"patrimoine_moyen\"] = (df.groupby(by=\"Région\").agg(\"sum\")[\"patrimoine_total\"] / par_regions[\"nombre de redevables\"]).astype(np.int)\n",
    "par_regions[\"imposition_moyenne\"] = (df.groupby(by=\"Région\").agg(\"sum\")[\"imposition_totale\"] / par_regions[\"nombre de redevables\"]).astype(np.int)\n",
    "par_regions.head()"
   ]
  }
 ],
 "metadata": {
  "kernelspec": {
   "display_name": "Python 3",
   "language": "python",
   "name": "python3"
  },
  "language_info": {
   "codemirror_mode": {
    "name": "ipython",
    "version": 3
   },
   "file_extension": ".py",
   "mimetype": "text/x-python",
   "name": "python",
   "nbconvert_exporter": "python",
   "pygments_lexer": "ipython3",
   "version": "3.7.3"
  }
 },
 "nbformat": 4,
 "nbformat_minor": 2
}
