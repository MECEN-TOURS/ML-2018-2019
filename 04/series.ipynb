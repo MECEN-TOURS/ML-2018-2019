{
 "cells": [
  {
   "cell_type": "markdown",
   "metadata": {},
   "source": [
    "# Imports"
   ]
  },
  {
   "cell_type": "code",
   "execution_count": 1,
   "metadata": {},
   "outputs": [
    {
     "name": "stderr",
     "output_type": "stream",
     "text": [
      "/home/vincent/anaconda3/lib/python3.6/importlib/_bootstrap.py:219: RuntimeWarning: numpy.dtype size changed, may indicate binary incompatibility. Expected 96, got 88\n",
      "  return f(*args, **kwds)\n",
      "/home/vincent/anaconda3/lib/python3.6/importlib/_bootstrap.py:219: RuntimeWarning: numpy.dtype size changed, may indicate binary incompatibility. Expected 96, got 88\n",
      "  return f(*args, **kwds)\n"
     ]
    }
   ],
   "source": [
    "import pandas as pd"
   ]
  },
  {
   "cell_type": "code",
   "execution_count": 2,
   "metadata": {},
   "outputs": [],
   "source": [
    "import numpy as np"
   ]
  },
  {
   "cell_type": "code",
   "execution_count": 13,
   "metadata": {},
   "outputs": [],
   "source": [
    "import matplotlib.pyplot as plt"
   ]
  },
  {
   "cell_type": "code",
   "execution_count": 14,
   "metadata": {},
   "outputs": [],
   "source": [
    "%matplotlib inline"
   ]
  },
  {
   "cell_type": "code",
   "execution_count": 49,
   "metadata": {},
   "outputs": [],
   "source": [
    "plt.style.use(\"seaborn\")"
   ]
  },
  {
   "cell_type": "code",
   "execution_count": 77,
   "metadata": {},
   "outputs": [],
   "source": [
    "plt.rcParams[\"figure.figsize\"] = (12, 8)"
   ]
  },
  {
   "cell_type": "markdown",
   "metadata": {},
   "source": [
    "# Construction"
   ]
  },
  {
   "cell_type": "code",
   "execution_count": 83,
   "metadata": {},
   "outputs": [],
   "source": [
    "s = pd.Series(np.random.random(size=(26)))"
   ]
  },
  {
   "cell_type": "code",
   "execution_count": 84,
   "metadata": {},
   "outputs": [
    {
     "data": {
      "text/plain": [
       "0     0.165826\n",
       "1     0.446137\n",
       "2     0.110208\n",
       "3     0.308347\n",
       "4     0.040739\n",
       "5     0.217736\n",
       "6     0.538563\n",
       "7     0.474864\n",
       "8     0.565158\n",
       "9     0.686709\n",
       "10    0.118588\n",
       "11    0.745422\n",
       "12    0.299681\n",
       "13    0.399320\n",
       "14    0.306003\n",
       "15    0.185603\n",
       "16    0.841397\n",
       "17    0.906337\n",
       "18    0.681246\n",
       "19    0.637376\n",
       "20    0.946757\n",
       "21    0.518959\n",
       "22    0.005999\n",
       "23    0.210160\n",
       "24    0.836260\n",
       "25    0.742818\n",
       "dtype: float64"
      ]
     },
     "execution_count": 84,
     "metadata": {},
     "output_type": "execute_result"
    }
   ],
   "source": [
    "s"
   ]
  },
  {
   "cell_type": "code",
   "execution_count": 86,
   "metadata": {},
   "outputs": [],
   "source": [
    "s.index = list(\"abcdefghijklmnopqrstuvwxyz\")"
   ]
  },
  {
   "cell_type": "code",
   "execution_count": 87,
   "metadata": {},
   "outputs": [
    {
     "data": {
      "text/plain": [
       "a    0.165826\n",
       "b    0.446137\n",
       "c    0.110208\n",
       "d    0.308347\n",
       "e    0.040739\n",
       "f    0.217736\n",
       "g    0.538563\n",
       "h    0.474864\n",
       "i    0.565158\n",
       "j    0.686709\n",
       "k    0.118588\n",
       "l    0.745422\n",
       "m    0.299681\n",
       "n    0.399320\n",
       "o    0.306003\n",
       "p    0.185603\n",
       "q    0.841397\n",
       "r    0.906337\n",
       "s    0.681246\n",
       "t    0.637376\n",
       "u    0.946757\n",
       "v    0.518959\n",
       "w    0.005999\n",
       "x    0.210160\n",
       "y    0.836260\n",
       "z    0.742818\n",
       "dtype: float64"
      ]
     },
     "execution_count": 87,
     "metadata": {},
     "output_type": "execute_result"
    }
   ],
   "source": [
    "s"
   ]
  },
  {
   "cell_type": "markdown",
   "metadata": {},
   "source": [
    "# Decouverte et accès"
   ]
  },
  {
   "cell_type": "code",
   "execution_count": 88,
   "metadata": {},
   "outputs": [
    {
     "data": {
      "text/plain": [
       "count    26.000000\n",
       "mean      0.459085\n",
       "std       0.284070\n",
       "min       0.005999\n",
       "25%       0.212054\n",
       "50%       0.460500\n",
       "75%       0.685343\n",
       "max       0.946757\n",
       "dtype: float64"
      ]
     },
     "execution_count": 88,
     "metadata": {},
     "output_type": "execute_result"
    }
   ],
   "source": [
    "s.describe()"
   ]
  },
  {
   "cell_type": "code",
   "execution_count": 89,
   "metadata": {},
   "outputs": [
    {
     "data": {
      "text/plain": [
       "f    0.217736\n",
       "g    0.538563\n",
       "dtype: float64"
      ]
     },
     "execution_count": 89,
     "metadata": {},
     "output_type": "execute_result"
    }
   ],
   "source": [
    "s[5:7]"
   ]
  },
  {
   "cell_type": "code",
   "execution_count": 90,
   "metadata": {},
   "outputs": [
    {
     "data": {
      "text/plain": [
       "a    0.165826\n",
       "b    0.446137\n",
       "c    0.110208\n",
       "d    0.308347\n",
       "e    0.040739\n",
       "f    0.217736\n",
       "g    0.538563\n",
       "dtype: float64"
      ]
     },
     "execution_count": 90,
     "metadata": {},
     "output_type": "execute_result"
    }
   ],
   "source": [
    "s[\"a\":\"g\"]"
   ]
  },
  {
   "cell_type": "markdown",
   "metadata": {},
   "source": [
    "# Visualisation "
   ]
  },
  {
   "cell_type": "code",
   "execution_count": 91,
   "metadata": {},
   "outputs": [
    {
     "data": {
      "text/plain": [
       "<matplotlib.axes._subplots.AxesSubplot at 0x7fd9e76fcf60>"
      ]
     },
     "execution_count": 91,
     "metadata": {},
     "output_type": "execute_result"
    },
    {
     "data": {
      "image/png": "[encoded data removed]",
      "text/plain": [
       "<Figure size 864x576 with 1 Axes>"
      ]
     },
     "metadata": {},
     "output_type": "display_data"
    }
   ],
   "source": [
    "s.plot(kind=\"bar\")"
   ]
  },
  {
   "cell_type": "code",
   "execution_count": 92,
   "metadata": {},
   "outputs": [
    {
     "data": {
      "text/plain": [
       "<matplotlib.axes._subplots.AxesSubplot at 0x7fd9e773acc0>"
      ]
     },
     "execution_count": 92,
     "metadata": {},
     "output_type": "execute_result"
    },
    {
     "data": {
      "image/png": "[encoded data removed]",
      "text/plain": [
       "<Figure size 864x576 with 1 Axes>"
      ]
     },
     "metadata": {},
     "output_type": "display_data"
    }
   ],
   "source": [
    "s.plot(kind=\"barh\")"
   ]
  },
  {
   "cell_type": "code",
   "execution_count": 93,
   "metadata": {},
   "outputs": [
    {
     "data": {
      "text/plain": [
       "<matplotlib.axes._subplots.AxesSubplot at 0x7fd9e75e1438>"
      ]
     },
     "execution_count": 93,
     "metadata": {},
     "output_type": "execute_result"
    },
    {
     "data": {
      "image/png": "[encoded data removed]",
      "text/plain": [
       "<Figure size 864x576 with 1 Axes>"
      ]
     },
     "metadata": {},
     "output_type": "display_data"
    }
   ],
   "source": [
    "s.plot(kind=\"line\")"
   ]
  },
  {
   "cell_type": "code",
   "execution_count": 94,
   "metadata": {},
   "outputs": [
    {
     "data": {
      "image/png": "[encoded data removed]",
      "text/plain": [
       "<Figure size 864x576 with 1 Axes>"
      ]
     },
     "metadata": {},
     "output_type": "display_data"
    }
   ],
   "source": [
    "s.plot(kind=\"pie\")\n",
    "plt.axis(\"equal\");"
   ]
  },
  {
   "cell_type": "code",
   "execution_count": 95,
   "metadata": {},
   "outputs": [
    {
     "data": {
      "image/png": "[encoded data removed]",
      "text/plain": [
       "<Figure size 864x576 with 1 Axes>"
      ]
     },
     "metadata": {},
     "output_type": "display_data"
    }
   ],
   "source": [
    "s.plot(kind=\"kde\");"
   ]
  },
  {
   "cell_type": "code",
   "execution_count": 96,
   "metadata": {},
   "outputs": [
    {
     "data": {
      "text/plain": [
       "<matplotlib.axes._subplots.AxesSubplot at 0x7fd9e743c9b0>"
      ]
     },
     "execution_count": 96,
     "metadata": {},
     "output_type": "execute_result"
    },
    {
     "data": {
      "image/png": "[encoded data removed]",
      "text/plain": [
       "<Figure size 864x576 with 1 Axes>"
      ]
     },
     "metadata": {},
     "output_type": "display_data"
    }
   ],
   "source": [
    "s.plot(kind=\"box\")"
   ]
  },
  {
   "cell_type": "code",
   "execution_count": 97,
   "metadata": {},
   "outputs": [
    {
     "data": {
      "text/plain": [
       "<matplotlib.axes._subplots.AxesSubplot at 0x7fd9e7398240>"
      ]
     },
     "execution_count": 97,
     "metadata": {},
     "output_type": "execute_result"
    },
    {
     "data": {
      "image/png": "[encoded data removed]",
      "text/plain": [
       "<Figure size 864x576 with 1 Axes>"
      ]
     },
     "metadata": {},
     "output_type": "display_data"
    }
   ],
   "source": [
    "s.plot(kind=\"hist\")"
   ]
  },
  {
   "cell_type": "code",
   "execution_count": 98,
   "metadata": {},
   "outputs": [],
   "source": [
    "ns = s.apply(lambda x: (x- s.mean())/s.std())"
   ]
  },
  {
   "cell_type": "code",
   "execution_count": 99,
   "metadata": {},
   "outputs": [
    {
     "data": {
      "image/png": "[encoded data removed]",
      "text/plain": [
       "<Figure size 1296x576 with 2 Axes>"
      ]
     },
     "metadata": {},
     "output_type": "display_data"
    }
   ],
   "source": [
    "fig, (ax1, ax2) = plt.subplots(1, 2, figsize=(18, 8), sharey=True)\n",
    "s.plot(kind=\"bar\", ax=ax1)\n",
    "ax1.set_title(\"Valeurs brutes\")\n",
    "ns.plot(kind=\"bar\", ax=ax2)\n",
    "ax2.set_title(\"Valeurs normalisées\");"
   ]
  },
  {
   "cell_type": "markdown",
   "metadata": {},
   "source": [
    "# Application"
   ]
  },
  {
   "cell_type": "code",
   "execution_count": 57,
   "metadata": {},
   "outputs": [],
   "source": [
    "discours = \"\"\"\n",
    "I am proud to come to this city as the guest of your distinguished Mayor, who has symbolized throughout the world the fighting spirit of West Berlin. And I am proud to visit the Federal Republic with your distinguished Chancellor who for so many years has committed Germany to democracy and freedom and progress, and to come here in the company of my fellow American, General Clay, who has been in this city during its great moments of crisis and will come again if ever needed.\n",
    "Two thousand years ago the proudest boast was \"civis Romanus sum.\" Today, in the world of freedom, the proudest boast is \"Ich bin ein Berliner.\"\n",
    "I appreciate my interpreter translating my German!\n",
    "There are many people in the world who really don't understand, or say they don't, what is the great issue between the free world and the Communist world. Let them come to Berlin. There are some who say that communism is the wave of the future. Let them come to Berlin. And there are some who say in Europe and elsewhere we can work with the Communists. Let them come to Berlin. And there are even a few who say that it is true that communism is an evil system, but it permits us to make economic progress. Lass' sic nach Berlin kommen. Let them come to Berlin.\n",
    "Freedom has many difficulties and democracy is not perfect, but we have never had to put a wall up to keep our people in, to prevent them from leaving us. I want to say, on behalf of my countrymen, who live many miles away on the other side of the Atlantic, who are far distant from you, that they take the greatest pride that they have been able to share with you, even from a distance, the story of the last 18 years. I know of no town, no city, that has been besieged for 18 years that still lives with the vitality and the force, and the hope and the determination of the city of West Berlin. While the wall is the most obvious and vivid demonstration of the failures of. the Communist system, for all the world to see, we take no satisfaction in it, for it is, as your Mayor has said, an offense not only against history but an offense against humanity, separating families, dividing husbands and wives and brothers and sisters, and dividing a people who wish to be joined together.\n",
    "What is true of this city is true of Germany—real, lasting peace in Europe can never be assured as long as one German out of four is denied the elementary right of free men, and that is to make a free choice. In 18 years of peace and good faith, this generation of Germans has earned the right to be free, including the right to unite their families and their nation in lasting peace, with good will to all people. You live in a defended island of freedom, but your life is part of the main. So let me ask you, as I close, to lift your eyes beyond the dangers of today, to the hopes of tomorrow, beyond the freedom merely of this city of Berlin, or your country of Germany, to the advance of freedom everywhere, beyond the wall to the day of peace with justice, beyond yourselves and ourselves to all mankind.\n",
    "Freedom is indivisible, and when one man is enslaved, all are not free. When all are free, then we can look forward to that day when this city will be joined as one and this country and this great Continent of Europe in a peaceful and hopeful globe. When that day finally comes, as it will, the people of West Berlin can take sober satisfaction in the fact that they were in the front lines for almost two decades.\n",
    "All free men, wherever they may live, are citizens of Berlin, and, therefore, as a free man, I take pride in the words \"Ich bin ein Berliner!\"\n",
    "\"\"\""
   ]
  },
  {
   "cell_type": "code",
   "execution_count": 58,
   "metadata": {},
   "outputs": [],
   "source": [
    "correspondance = dict()\n",
    "for c in discours:\n",
    "    correspondance[c] = correspondance.get(c, 0) + 1"
   ]
  },
  {
   "cell_type": "code",
   "execution_count": 60,
   "metadata": {},
   "outputs": [],
   "source": [
    "car = pd.Series(correspondance)"
   ]
  },
  {
   "cell_type": "code",
   "execution_count": 61,
   "metadata": {},
   "outputs": [
    {
     "data": {
      "text/plain": [
       "\\n      9\n",
       "I      10\n",
       "      665\n",
       "a     212\n",
       "m      92\n",
       "dtype: int64"
      ]
     },
     "execution_count": 61,
     "metadata": {},
     "output_type": "execute_result"
    }
   ],
   "source": [
    "car.head()"
   ]
  },
  {
   "cell_type": "code",
   "execution_count": 100,
   "metadata": {},
   "outputs": [
    {
     "data": {
      "text/plain": [
       "<matplotlib.axes._subplots.AxesSubplot at 0x7fd9e71c1dd8>"
      ]
     },
     "execution_count": 100,
     "metadata": {},
     "output_type": "execute_result"
    },
    {
     "data": {
      "image/png": "[encoded data removed]",
      "text/plain": [
       "<Figure size 864x576 with 1 Axes>"
      ]
     },
     "metadata": {},
     "output_type": "display_data"
    }
   ],
   "source": [
    "car.sort_values()[20:].plot(kind=\"bar\")"
   ]
  },
  {
   "cell_type": "code",
   "execution_count": 101,
   "metadata": {},
   "outputs": [],
   "source": [
    "lignes = discours.splitlines()"
   ]
  },
  {
   "cell_type": "code",
   "execution_count": 102,
   "metadata": {},
   "outputs": [
    {
     "data": {
      "text/plain": [
       "9"
      ]
     },
     "execution_count": 102,
     "metadata": {},
     "output_type": "execute_result"
    }
   ],
   "source": [
    "len(lignes)"
   ]
  },
  {
   "cell_type": "code",
   "execution_count": 103,
   "metadata": {},
   "outputs": [
    {
     "data": {
      "text/plain": [
       "673"
      ]
     },
     "execution_count": 103,
     "metadata": {},
     "output_type": "execute_result"
    }
   ],
   "source": [
    "mots = [mot for ligne in lignes for mot in ligne.split() ]\n",
    "len(mots)"
   ]
  },
  {
   "cell_type": "code",
   "execution_count": 104,
   "metadata": {},
   "outputs": [],
   "source": [
    "corr = dict()\n",
    "for mot in mots:\n",
    "    corr[mot] = corr.get(mot, 0) + 1\n",
    "    \n"
   ]
  },
  {
   "cell_type": "code",
   "execution_count": 105,
   "metadata": {},
   "outputs": [],
   "source": [
    "res = pd.Series(corr)"
   ]
  },
  {
   "cell_type": "code",
   "execution_count": 106,
   "metadata": {},
   "outputs": [],
   "source": [
    "res_ord = res.sort_values()"
   ]
  },
  {
   "cell_type": "code",
   "execution_count": 107,
   "metadata": {},
   "outputs": [
    {
     "data": {
      "text/plain": [
       "<matplotlib.axes._subplots.AxesSubplot at 0x7fd9e7d8e2b0>"
      ]
     },
     "execution_count": 107,
     "metadata": {},
     "output_type": "execute_result"
    },
    {
     "data": {
      "image/png": "[encoded data removed]",
      "text/plain": [
       "<Figure size 864x576 with 1 Axes>"
      ]
     },
     "metadata": {},
     "output_type": "display_data"
    }
   ],
   "source": [
    "res_ord[-20:].plot(kind=\"bar\", title=\"Kennedy\")"
   ]
  },
  {
   "cell_type": "code",
   "execution_count": 108,
   "metadata": {},
   "outputs": [
    {
     "name": "stdout",
     "output_type": "stream",
     "text": [
      "['I', 'am', 'proud', 'to', 'come', 'to', 'this', 'city', 'as', 'the']\n"
     ]
    }
   ],
   "source": [
    "print(mots[:10])"
   ]
  },
  {
   "cell_type": "code",
   "execution_count": 109,
   "metadata": {},
   "outputs": [
    {
     "data": {
      "text/plain": [
       "{'I': 7,\n",
       " 'am': 2,\n",
       " 'proud': 2,\n",
       " 'to': 27,\n",
       " 'come': 7,\n",
       " 'this': 8,\n",
       " 'city': 6,\n",
       " 'as': 8,\n",
       " 'the': 44,\n",
       " 'guest': 1,\n",
       " 'of': 31,\n",
       " 'your': 6,\n",
       " 'distinguished': 2,\n",
       " 'Mayor,': 1,\n",
       " 'who': 10,\n",
       " 'has': 7,\n",
       " 'symbolized': 1,\n",
       " 'throughout': 1,\n",
       " 'world': 5,\n",
       " 'fighting': 1,\n",
       " 'spirit': 1,\n",
       " 'West': 3,\n",
       " 'Berlin.': 6,\n",
       " 'And': 3,\n",
       " 'visit': 1,\n",
       " 'Federal': 1,\n",
       " 'Republic': 1,\n",
       " 'with': 6,\n",
       " 'Chancellor': 1,\n",
       " 'for': 5,\n",
       " 'so': 1,\n",
       " 'many': 4,\n",
       " 'years': 4,\n",
       " 'committed': 1,\n",
       " 'Germany': 1,\n",
       " 'democracy': 2,\n",
       " 'and': 23,\n",
       " 'freedom': 3,\n",
       " 'progress,': 1,\n",
       " 'here': 1,\n",
       " 'in': 13,\n",
       " 'company': 1,\n",
       " 'my': 4,\n",
       " 'fellow': 1,\n",
       " 'American,': 1,\n",
       " 'General': 1,\n",
       " 'Clay,': 1,\n",
       " 'been': 3,\n",
       " 'during': 1,\n",
       " 'its': 1,\n",
       " 'great': 3,\n",
       " 'moments': 1,\n",
       " 'crisis': 1,\n",
       " 'will': 3,\n",
       " 'again': 1,\n",
       " 'if': 1,\n",
       " 'ever': 1,\n",
       " 'needed.': 1,\n",
       " 'Two': 1,\n",
       " 'thousand': 1,\n",
       " 'ago': 1,\n",
       " 'proudest': 2,\n",
       " 'boast': 2,\n",
       " 'was': 1,\n",
       " '\"civis': 1,\n",
       " 'Romanus': 1,\n",
       " 'sum.\"': 1,\n",
       " 'Today,': 1,\n",
       " 'freedom,': 2,\n",
       " 'is': 14,\n",
       " '\"Ich': 2,\n",
       " 'bin': 2,\n",
       " 'ein': 2,\n",
       " 'Berliner.\"': 1,\n",
       " 'appreciate': 1,\n",
       " 'interpreter': 1,\n",
       " 'translating': 1,\n",
       " 'German!': 1,\n",
       " 'There': 2,\n",
       " 'are': 8,\n",
       " 'people': 4,\n",
       " 'really': 1,\n",
       " \"don't\": 1,\n",
       " 'understand,': 1,\n",
       " 'or': 2,\n",
       " 'say': 4,\n",
       " 'they': 5,\n",
       " \"don't,\": 1,\n",
       " 'what': 1,\n",
       " 'issue': 1,\n",
       " 'between': 1,\n",
       " 'free': 5,\n",
       " 'Communist': 2,\n",
       " 'world.': 1,\n",
       " 'Let': 4,\n",
       " 'them': 5,\n",
       " 'some': 2,\n",
       " 'that': 11,\n",
       " 'communism': 2,\n",
       " 'wave': 1,\n",
       " 'future.': 1,\n",
       " 'there': 2,\n",
       " 'Europe': 3,\n",
       " 'elsewhere': 1,\n",
       " 'we': 4,\n",
       " 'can': 4,\n",
       " 'work': 1,\n",
       " 'Communists.': 1,\n",
       " 'even': 2,\n",
       " 'a': 8,\n",
       " 'few': 1,\n",
       " 'it': 4,\n",
       " 'true': 3,\n",
       " 'an': 3,\n",
       " 'evil': 1,\n",
       " 'system,': 2,\n",
       " 'but': 4,\n",
       " 'permits': 1,\n",
       " 'us': 1,\n",
       " 'make': 2,\n",
       " 'economic': 1,\n",
       " 'progress.': 1,\n",
       " \"Lass'\": 1,\n",
       " 'sic': 1,\n",
       " 'nach': 1,\n",
       " 'Berlin': 2,\n",
       " 'kommen.': 1,\n",
       " 'Freedom': 2,\n",
       " 'difficulties': 1,\n",
       " 'not': 3,\n",
       " 'perfect,': 1,\n",
       " 'have': 2,\n",
       " 'never': 2,\n",
       " 'had': 1,\n",
       " 'put': 1,\n",
       " 'wall': 3,\n",
       " 'up': 1,\n",
       " 'keep': 1,\n",
       " 'our': 1,\n",
       " 'in,': 1,\n",
       " 'prevent': 1,\n",
       " 'from': 3,\n",
       " 'leaving': 1,\n",
       " 'us.': 1,\n",
       " 'want': 1,\n",
       " 'say,': 1,\n",
       " 'on': 2,\n",
       " 'behalf': 1,\n",
       " 'countrymen,': 1,\n",
       " 'live': 2,\n",
       " 'miles': 1,\n",
       " 'away': 1,\n",
       " 'other': 1,\n",
       " 'side': 1,\n",
       " 'Atlantic,': 1,\n",
       " 'far': 1,\n",
       " 'distant': 1,\n",
       " 'you,': 3,\n",
       " 'take': 4,\n",
       " 'greatest': 1,\n",
       " 'pride': 2,\n",
       " 'able': 1,\n",
       " 'share': 1,\n",
       " 'distance,': 1,\n",
       " 'story': 1,\n",
       " 'last': 1,\n",
       " '18': 3,\n",
       " 'years.': 1,\n",
       " 'know': 1,\n",
       " 'no': 3,\n",
       " 'town,': 1,\n",
       " 'city,': 1,\n",
       " 'besieged': 1,\n",
       " 'still': 1,\n",
       " 'lives': 1,\n",
       " 'vitality': 1,\n",
       " 'force,': 1,\n",
       " 'hope': 1,\n",
       " 'determination': 1,\n",
       " 'While': 1,\n",
       " 'most': 1,\n",
       " 'obvious': 1,\n",
       " 'vivid': 1,\n",
       " 'demonstration': 1,\n",
       " 'failures': 1,\n",
       " 'of.': 1,\n",
       " 'all': 5,\n",
       " 'see,': 1,\n",
       " 'satisfaction': 2,\n",
       " 'it,': 1,\n",
       " 'is,': 1,\n",
       " 'Mayor': 1,\n",
       " 'said,': 1,\n",
       " 'offense': 2,\n",
       " 'only': 1,\n",
       " 'against': 2,\n",
       " 'history': 1,\n",
       " 'humanity,': 1,\n",
       " 'separating': 1,\n",
       " 'families,': 1,\n",
       " 'dividing': 2,\n",
       " 'husbands': 1,\n",
       " 'wives': 1,\n",
       " 'brothers': 1,\n",
       " 'sisters,': 1,\n",
       " 'wish': 1,\n",
       " 'be': 4,\n",
       " 'joined': 2,\n",
       " 'together.': 1,\n",
       " 'What': 1,\n",
       " 'Germany—real,': 1,\n",
       " 'lasting': 2,\n",
       " 'peace': 3,\n",
       " 'assured': 1,\n",
       " 'long': 1,\n",
       " 'one': 3,\n",
       " 'German': 1,\n",
       " 'out': 1,\n",
       " 'four': 1,\n",
       " 'denied': 1,\n",
       " 'elementary': 1,\n",
       " 'right': 3,\n",
       " 'men,': 2,\n",
       " 'choice.': 1,\n",
       " 'In': 1,\n",
       " 'good': 2,\n",
       " 'faith,': 1,\n",
       " 'generation': 1,\n",
       " 'Germans': 1,\n",
       " 'earned': 1,\n",
       " 'free,': 2,\n",
       " 'including': 1,\n",
       " 'unite': 1,\n",
       " 'their': 2,\n",
       " 'families': 1,\n",
       " 'nation': 1,\n",
       " 'peace,': 1,\n",
       " 'people.': 1,\n",
       " 'You': 1,\n",
       " 'defended': 1,\n",
       " 'island': 1,\n",
       " 'life': 1,\n",
       " 'part': 1,\n",
       " 'main.': 1,\n",
       " 'So': 1,\n",
       " 'let': 1,\n",
       " 'me': 1,\n",
       " 'ask': 1,\n",
       " 'close,': 1,\n",
       " 'lift': 1,\n",
       " 'eyes': 1,\n",
       " 'beyond': 4,\n",
       " 'dangers': 1,\n",
       " 'today,': 1,\n",
       " 'hopes': 1,\n",
       " 'tomorrow,': 1,\n",
       " 'merely': 1,\n",
       " 'Berlin,': 2,\n",
       " 'country': 2,\n",
       " 'Germany,': 1,\n",
       " 'advance': 1,\n",
       " 'everywhere,': 1,\n",
       " 'day': 3,\n",
       " 'justice,': 1,\n",
       " 'yourselves': 1,\n",
       " 'ourselves': 1,\n",
       " 'mankind.': 1,\n",
       " 'indivisible,': 1,\n",
       " 'when': 2,\n",
       " 'man': 1,\n",
       " 'enslaved,': 1,\n",
       " 'free.': 1,\n",
       " 'When': 2,\n",
       " 'then': 1,\n",
       " 'look': 1,\n",
       " 'forward': 1,\n",
       " 'Continent': 1,\n",
       " 'peaceful': 1,\n",
       " 'hopeful': 1,\n",
       " 'globe.': 1,\n",
       " 'finally': 1,\n",
       " 'comes,': 1,\n",
       " 'will,': 1,\n",
       " 'sober': 1,\n",
       " 'fact': 1,\n",
       " 'were': 1,\n",
       " 'front': 1,\n",
       " 'lines': 1,\n",
       " 'almost': 1,\n",
       " 'two': 1,\n",
       " 'decades.': 1,\n",
       " 'All': 1,\n",
       " 'wherever': 1,\n",
       " 'may': 1,\n",
       " 'live,': 1,\n",
       " 'citizens': 1,\n",
       " 'and,': 1,\n",
       " 'therefore,': 1,\n",
       " 'man,': 1,\n",
       " 'words': 1,\n",
       " 'Berliner!\"': 1}"
      ]
     },
     "execution_count": 109,
     "metadata": {},
     "output_type": "execute_result"
    }
   ],
   "source": [
    "dict(res)"
   ]
  },
  {
   "cell_type": "code",
   "execution_count": 114,
   "metadata": {},
   "outputs": [],
   "source": [
    "import re"
   ]
  },
  {
   "cell_type": "code",
   "execution_count": 117,
   "metadata": {},
   "outputs": [],
   "source": [
    "motif = re.compile(\"[\\.,!\\\"\\']\")"
   ]
  },
  {
   "cell_type": "code",
   "execution_count": 118,
   "metadata": {},
   "outputs": [],
   "source": [
    "mots_bis = [re.sub(motif, \"\", mot) for mot in mots]"
   ]
  },
  {
   "cell_type": "code",
   "execution_count": 119,
   "metadata": {},
   "outputs": [
    {
     "data": {
      "text/plain": [
       "['I',\n",
       " 'am',\n",
       " 'proud',\n",
       " 'to',\n",
       " 'come',\n",
       " 'to',\n",
       " 'this',\n",
       " 'city',\n",
       " 'as',\n",
       " 'the',\n",
       " 'guest',\n",
       " 'of',\n",
       " 'your',\n",
       " 'distinguished',\n",
       " 'Mayor',\n",
       " 'who',\n",
       " 'has',\n",
       " 'symbolized',\n",
       " 'throughout',\n",
       " 'the',\n",
       " 'world',\n",
       " 'the',\n",
       " 'fighting',\n",
       " 'spirit',\n",
       " 'of',\n",
       " 'West',\n",
       " 'Berlin',\n",
       " 'And',\n",
       " 'I',\n",
       " 'am',\n",
       " 'proud',\n",
       " 'to',\n",
       " 'visit',\n",
       " 'the',\n",
       " 'Federal',\n",
       " 'Republic',\n",
       " 'with',\n",
       " 'your',\n",
       " 'distinguished',\n",
       " 'Chancellor',\n",
       " 'who',\n",
       " 'for',\n",
       " 'so',\n",
       " 'many',\n",
       " 'years',\n",
       " 'has',\n",
       " 'committed',\n",
       " 'Germany',\n",
       " 'to',\n",
       " 'democracy',\n",
       " 'and',\n",
       " 'freedom',\n",
       " 'and',\n",
       " 'progress',\n",
       " 'and',\n",
       " 'to',\n",
       " 'come',\n",
       " 'here',\n",
       " 'in',\n",
       " 'the',\n",
       " 'company',\n",
       " 'of',\n",
       " 'my',\n",
       " 'fellow',\n",
       " 'American',\n",
       " 'General',\n",
       " 'Clay',\n",
       " 'who',\n",
       " 'has',\n",
       " 'been',\n",
       " 'in',\n",
       " 'this',\n",
       " 'city',\n",
       " 'during',\n",
       " 'its',\n",
       " 'great',\n",
       " 'moments',\n",
       " 'of',\n",
       " 'crisis',\n",
       " 'and',\n",
       " 'will',\n",
       " 'come',\n",
       " 'again',\n",
       " 'if',\n",
       " 'ever',\n",
       " 'needed',\n",
       " 'Two',\n",
       " 'thousand',\n",
       " 'years',\n",
       " 'ago',\n",
       " 'the',\n",
       " 'proudest',\n",
       " 'boast',\n",
       " 'was',\n",
       " 'civis',\n",
       " 'Romanus',\n",
       " 'sum',\n",
       " 'Today',\n",
       " 'in',\n",
       " 'the',\n",
       " 'world',\n",
       " 'of',\n",
       " 'freedom',\n",
       " 'the',\n",
       " 'proudest',\n",
       " 'boast',\n",
       " 'is',\n",
       " 'Ich',\n",
       " 'bin',\n",
       " 'ein',\n",
       " 'Berliner',\n",
       " 'I',\n",
       " 'appreciate',\n",
       " 'my',\n",
       " 'interpreter',\n",
       " 'translating',\n",
       " 'my',\n",
       " 'German',\n",
       " 'There',\n",
       " 'are',\n",
       " 'many',\n",
       " 'people',\n",
       " 'in',\n",
       " 'the',\n",
       " 'world',\n",
       " 'who',\n",
       " 'really',\n",
       " 'dont',\n",
       " 'understand',\n",
       " 'or',\n",
       " 'say',\n",
       " 'they',\n",
       " 'dont',\n",
       " 'what',\n",
       " 'is',\n",
       " 'the',\n",
       " 'great',\n",
       " 'issue',\n",
       " 'between',\n",
       " 'the',\n",
       " 'free',\n",
       " 'world',\n",
       " 'and',\n",
       " 'the',\n",
       " 'Communist',\n",
       " 'world',\n",
       " 'Let',\n",
       " 'them',\n",
       " 'come',\n",
       " 'to',\n",
       " 'Berlin',\n",
       " 'There',\n",
       " 'are',\n",
       " 'some',\n",
       " 'who',\n",
       " 'say',\n",
       " 'that',\n",
       " 'communism',\n",
       " 'is',\n",
       " 'the',\n",
       " 'wave',\n",
       " 'of',\n",
       " 'the',\n",
       " 'future',\n",
       " 'Let',\n",
       " 'them',\n",
       " 'come',\n",
       " 'to',\n",
       " 'Berlin',\n",
       " 'And',\n",
       " 'there',\n",
       " 'are',\n",
       " 'some',\n",
       " 'who',\n",
       " 'say',\n",
       " 'in',\n",
       " 'Europe',\n",
       " 'and',\n",
       " 'elsewhere',\n",
       " 'we',\n",
       " 'can',\n",
       " 'work',\n",
       " 'with',\n",
       " 'the',\n",
       " 'Communists',\n",
       " 'Let',\n",
       " 'them',\n",
       " 'come',\n",
       " 'to',\n",
       " 'Berlin',\n",
       " 'And',\n",
       " 'there',\n",
       " 'are',\n",
       " 'even',\n",
       " 'a',\n",
       " 'few',\n",
       " 'who',\n",
       " 'say',\n",
       " 'that',\n",
       " 'it',\n",
       " 'is',\n",
       " 'true',\n",
       " 'that',\n",
       " 'communism',\n",
       " 'is',\n",
       " 'an',\n",
       " 'evil',\n",
       " 'system',\n",
       " 'but',\n",
       " 'it',\n",
       " 'permits',\n",
       " 'us',\n",
       " 'to',\n",
       " 'make',\n",
       " 'economic',\n",
       " 'progress',\n",
       " 'Lass',\n",
       " 'sic',\n",
       " 'nach',\n",
       " 'Berlin',\n",
       " 'kommen',\n",
       " 'Let',\n",
       " 'them',\n",
       " 'come',\n",
       " 'to',\n",
       " 'Berlin',\n",
       " 'Freedom',\n",
       " 'has',\n",
       " 'many',\n",
       " 'difficulties',\n",
       " 'and',\n",
       " 'democracy',\n",
       " 'is',\n",
       " 'not',\n",
       " 'perfect',\n",
       " 'but',\n",
       " 'we',\n",
       " 'have',\n",
       " 'never',\n",
       " 'had',\n",
       " 'to',\n",
       " 'put',\n",
       " 'a',\n",
       " 'wall',\n",
       " 'up',\n",
       " 'to',\n",
       " 'keep',\n",
       " 'our',\n",
       " 'people',\n",
       " 'in',\n",
       " 'to',\n",
       " 'prevent',\n",
       " 'them',\n",
       " 'from',\n",
       " 'leaving',\n",
       " 'us',\n",
       " 'I',\n",
       " 'want',\n",
       " 'to',\n",
       " 'say',\n",
       " 'on',\n",
       " 'behalf',\n",
       " 'of',\n",
       " 'my',\n",
       " 'countrymen',\n",
       " 'who',\n",
       " 'live',\n",
       " 'many',\n",
       " 'miles',\n",
       " 'away',\n",
       " 'on',\n",
       " 'the',\n",
       " 'other',\n",
       " 'side',\n",
       " 'of',\n",
       " 'the',\n",
       " 'Atlantic',\n",
       " 'who',\n",
       " 'are',\n",
       " 'far',\n",
       " 'distant',\n",
       " 'from',\n",
       " 'you',\n",
       " 'that',\n",
       " 'they',\n",
       " 'take',\n",
       " 'the',\n",
       " 'greatest',\n",
       " 'pride',\n",
       " 'that',\n",
       " 'they',\n",
       " 'have',\n",
       " 'been',\n",
       " 'able',\n",
       " 'to',\n",
       " 'share',\n",
       " 'with',\n",
       " 'you',\n",
       " 'even',\n",
       " 'from',\n",
       " 'a',\n",
       " 'distance',\n",
       " 'the',\n",
       " 'story',\n",
       " 'of',\n",
       " 'the',\n",
       " 'last',\n",
       " '18',\n",
       " 'years',\n",
       " 'I',\n",
       " 'know',\n",
       " 'of',\n",
       " 'no',\n",
       " 'town',\n",
       " 'no',\n",
       " 'city',\n",
       " 'that',\n",
       " 'has',\n",
       " 'been',\n",
       " 'besieged',\n",
       " 'for',\n",
       " '18',\n",
       " 'years',\n",
       " 'that',\n",
       " 'still',\n",
       " 'lives',\n",
       " 'with',\n",
       " 'the',\n",
       " 'vitality',\n",
       " 'and',\n",
       " 'the',\n",
       " 'force',\n",
       " 'and',\n",
       " 'the',\n",
       " 'hope',\n",
       " 'and',\n",
       " 'the',\n",
       " 'determination',\n",
       " 'of',\n",
       " 'the',\n",
       " 'city',\n",
       " 'of',\n",
       " 'West',\n",
       " 'Berlin',\n",
       " 'While',\n",
       " 'the',\n",
       " 'wall',\n",
       " 'is',\n",
       " 'the',\n",
       " 'most',\n",
       " 'obvious',\n",
       " 'and',\n",
       " 'vivid',\n",
       " 'demonstration',\n",
       " 'of',\n",
       " 'the',\n",
       " 'failures',\n",
       " 'of',\n",
       " 'the',\n",
       " 'Communist',\n",
       " 'system',\n",
       " 'for',\n",
       " 'all',\n",
       " 'the',\n",
       " 'world',\n",
       " 'to',\n",
       " 'see',\n",
       " 'we',\n",
       " 'take',\n",
       " 'no',\n",
       " 'satisfaction',\n",
       " 'in',\n",
       " 'it',\n",
       " 'for',\n",
       " 'it',\n",
       " 'is',\n",
       " 'as',\n",
       " 'your',\n",
       " 'Mayor',\n",
       " 'has',\n",
       " 'said',\n",
       " 'an',\n",
       " 'offense',\n",
       " 'not',\n",
       " 'only',\n",
       " 'against',\n",
       " 'history',\n",
       " 'but',\n",
       " 'an',\n",
       " 'offense',\n",
       " 'against',\n",
       " 'humanity',\n",
       " 'separating',\n",
       " 'families',\n",
       " 'dividing',\n",
       " 'husbands',\n",
       " 'and',\n",
       " 'wives',\n",
       " 'and',\n",
       " 'brothers',\n",
       " 'and',\n",
       " 'sisters',\n",
       " 'and',\n",
       " 'dividing',\n",
       " 'a',\n",
       " 'people',\n",
       " 'who',\n",
       " 'wish',\n",
       " 'to',\n",
       " 'be',\n",
       " 'joined',\n",
       " 'together',\n",
       " 'What',\n",
       " 'is',\n",
       " 'true',\n",
       " 'of',\n",
       " 'this',\n",
       " 'city',\n",
       " 'is',\n",
       " 'true',\n",
       " 'of',\n",
       " 'Germany—real',\n",
       " 'lasting',\n",
       " 'peace',\n",
       " 'in',\n",
       " 'Europe',\n",
       " 'can',\n",
       " 'never',\n",
       " 'be',\n",
       " 'assured',\n",
       " 'as',\n",
       " 'long',\n",
       " 'as',\n",
       " 'one',\n",
       " 'German',\n",
       " 'out',\n",
       " 'of',\n",
       " 'four',\n",
       " 'is',\n",
       " 'denied',\n",
       " 'the',\n",
       " 'elementary',\n",
       " 'right',\n",
       " 'of',\n",
       " 'free',\n",
       " 'men',\n",
       " 'and',\n",
       " 'that',\n",
       " 'is',\n",
       " 'to',\n",
       " 'make',\n",
       " 'a',\n",
       " 'free',\n",
       " 'choice',\n",
       " 'In',\n",
       " '18',\n",
       " 'years',\n",
       " 'of',\n",
       " 'peace',\n",
       " 'and',\n",
       " 'good',\n",
       " 'faith',\n",
       " 'this',\n",
       " 'generation',\n",
       " 'of',\n",
       " 'Germans',\n",
       " 'has',\n",
       " 'earned',\n",
       " 'the',\n",
       " 'right',\n",
       " 'to',\n",
       " 'be',\n",
       " 'free',\n",
       " 'including',\n",
       " 'the',\n",
       " 'right',\n",
       " 'to',\n",
       " 'unite',\n",
       " 'their',\n",
       " 'families',\n",
       " 'and',\n",
       " 'their',\n",
       " 'nation',\n",
       " 'in',\n",
       " 'lasting',\n",
       " 'peace',\n",
       " 'with',\n",
       " 'good',\n",
       " 'will',\n",
       " 'to',\n",
       " 'all',\n",
       " 'people',\n",
       " 'You',\n",
       " 'live',\n",
       " 'in',\n",
       " 'a',\n",
       " 'defended',\n",
       " 'island',\n",
       " 'of',\n",
       " 'freedom',\n",
       " 'but',\n",
       " 'your',\n",
       " 'life',\n",
       " 'is',\n",
       " 'part',\n",
       " 'of',\n",
       " 'the',\n",
       " 'main',\n",
       " 'So',\n",
       " 'let',\n",
       " 'me',\n",
       " 'ask',\n",
       " 'you',\n",
       " 'as',\n",
       " 'I',\n",
       " 'close',\n",
       " 'to',\n",
       " 'lift',\n",
       " 'your',\n",
       " 'eyes',\n",
       " 'beyond',\n",
       " 'the',\n",
       " 'dangers',\n",
       " 'of',\n",
       " 'today',\n",
       " 'to',\n",
       " 'the',\n",
       " 'hopes',\n",
       " 'of',\n",
       " 'tomorrow',\n",
       " 'beyond',\n",
       " 'the',\n",
       " 'freedom',\n",
       " 'merely',\n",
       " 'of',\n",
       " 'this',\n",
       " 'city',\n",
       " 'of',\n",
       " 'Berlin',\n",
       " 'or',\n",
       " 'your',\n",
       " 'country',\n",
       " 'of',\n",
       " 'Germany',\n",
       " 'to',\n",
       " 'the',\n",
       " 'advance',\n",
       " 'of',\n",
       " 'freedom',\n",
       " 'everywhere',\n",
       " 'beyond',\n",
       " 'the',\n",
       " 'wall',\n",
       " 'to',\n",
       " 'the',\n",
       " 'day',\n",
       " 'of',\n",
       " 'peace',\n",
       " 'with',\n",
       " 'justice',\n",
       " 'beyond',\n",
       " 'yourselves',\n",
       " 'and',\n",
       " 'ourselves',\n",
       " 'to',\n",
       " 'all',\n",
       " 'mankind',\n",
       " 'Freedom',\n",
       " 'is',\n",
       " 'indivisible',\n",
       " 'and',\n",
       " 'when',\n",
       " 'one',\n",
       " 'man',\n",
       " 'is',\n",
       " 'enslaved',\n",
       " 'all',\n",
       " 'are',\n",
       " 'not',\n",
       " 'free',\n",
       " 'When',\n",
       " 'all',\n",
       " 'are',\n",
       " 'free',\n",
       " 'then',\n",
       " 'we',\n",
       " 'can',\n",
       " 'look',\n",
       " 'forward',\n",
       " 'to',\n",
       " 'that',\n",
       " 'day',\n",
       " 'when',\n",
       " 'this',\n",
       " 'city',\n",
       " 'will',\n",
       " 'be',\n",
       " 'joined',\n",
       " 'as',\n",
       " 'one',\n",
       " 'and',\n",
       " 'this',\n",
       " 'country',\n",
       " 'and',\n",
       " 'this',\n",
       " 'great',\n",
       " 'Continent',\n",
       " 'of',\n",
       " 'Europe',\n",
       " 'in',\n",
       " 'a',\n",
       " 'peaceful',\n",
       " 'and',\n",
       " 'hopeful',\n",
       " 'globe',\n",
       " 'When',\n",
       " 'that',\n",
       " 'day',\n",
       " 'finally',\n",
       " 'comes',\n",
       " 'as',\n",
       " 'it',\n",
       " 'will',\n",
       " 'the',\n",
       " 'people',\n",
       " 'of',\n",
       " 'West',\n",
       " 'Berlin',\n",
       " 'can',\n",
       " 'take',\n",
       " 'sober',\n",
       " 'satisfaction',\n",
       " 'in',\n",
       " 'the',\n",
       " 'fact',\n",
       " 'that',\n",
       " 'they',\n",
       " 'were',\n",
       " 'in',\n",
       " 'the',\n",
       " 'front',\n",
       " 'lines',\n",
       " 'for',\n",
       " 'almost',\n",
       " 'two',\n",
       " 'decades',\n",
       " 'All',\n",
       " 'free',\n",
       " 'men',\n",
       " 'wherever',\n",
       " 'they',\n",
       " 'may',\n",
       " 'live',\n",
       " 'are',\n",
       " 'citizens',\n",
       " 'of',\n",
       " 'Berlin',\n",
       " 'and',\n",
       " 'therefore',\n",
       " 'as',\n",
       " 'a',\n",
       " 'free',\n",
       " 'man',\n",
       " 'I',\n",
       " 'take',\n",
       " 'pride',\n",
       " 'in',\n",
       " 'the',\n",
       " 'words',\n",
       " 'Ich',\n",
       " 'bin',\n",
       " 'ein',\n",
       " 'Berliner']"
      ]
     },
     "execution_count": 119,
     "metadata": {},
     "output_type": "execute_result"
    }
   ],
   "source": [
    "mots_bis"
   ]
  },
  {
   "cell_type": "code",
   "execution_count": 121,
   "metadata": {},
   "outputs": [],
   "source": [
    "corr_bis = dict()\n",
    "for mot in mots_bis:\n",
    "    corr_bis[mot] = corr_bis.get(mot, 0)+1\n",
    "    \n",
    "res_bis = pd.Series(corr_bis)"
   ]
  },
  {
   "cell_type": "code",
   "execution_count": 123,
   "metadata": {},
   "outputs": [
    {
     "data": {
      "text/plain": [
       "<matplotlib.axes._subplots.AxesSubplot at 0x7fd9e6fc93c8>"
      ]
     },
     "execution_count": 123,
     "metadata": {},
     "output_type": "execute_result"
    },
    {
     "data": {
      "image/png": "[encoded data removed]",
      "text/plain": [
       "<Figure size 864x576 with 1 Axes>"
      ]
     },
     "metadata": {},
     "output_type": "display_data"
    }
   ],
   "source": [
    "res_bis.sort_values(ascending=False)[:15].plot(kind=\"bar\")"
   ]
  },
  {
   "cell_type": "code",
   "execution_count": null,
   "metadata": {},
   "outputs": [],
   "source": []
  }
 ],
 "metadata": {
  "kernelspec": {
   "display_name": "Python 3",
   "language": "python",
   "name": "python3"
  },
  "language_info": {
   "codemirror_mode": {
    "name": "ipython",
    "version": 3
   },
   "file_extension": ".py",
   "mimetype": "text/x-python",
   "name": "python",
   "nbconvert_exporter": "python",
   "pygments_lexer": "ipython3",
   "version": "3.6.6"
  }
 },
 "nbformat": 4,
 "nbformat_minor": 2
}
