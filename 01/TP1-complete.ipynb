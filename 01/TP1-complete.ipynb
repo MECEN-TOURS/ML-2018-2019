{
 "cells": [
  {
   "cell_type": "markdown",
   "metadata": {},
   "source": [
    "# Introduction au Notebook"
   ]
  },
  {
   "cell_type": "markdown",
   "metadata": {},
   "source": [
    "Le notebook Jupyter est composé de cellules. On exécute la cellule courante de trois façons.\n",
    "- via CTRL-Entree on restera dans la cellule après avoir exécuté le code dans celle-ci\n",
    "- via SHIFT-Entree on passera à la cellule du dessous après avoir exécuté le code dans celle-ci\n",
    "- via ALT-Entree on créera une nouvelle cellule en dessous et on passera dedan saprès avoir exécuté le code dans celle-ci."
   ]
  },
  {
   "cell_type": "markdown",
   "metadata": {},
   "source": [
    "Il y a plusieurs types de cellules, principalement les cellules de code (pour faire tourner du python dans notre cas) et les cellules Markdown pour ajouter du \"texte\" (au sens général en fait le contenu peut être enrichi). On distinguera bien le mode *édition* du mode *executé* pour l'état des cellules. Comme on peut exécuter les cellules dans n'importe quel ordre les cellules de code sont précédées d'un crochet avec un numéro (une fois executées) pour pouvoir percevoir l'ordre dans lequel elles ont été exécutées."
   ]
  },
  {
   "cell_type": "code",
   "execution_count": 1,
   "metadata": {},
   "outputs": [
    {
     "name": "stdout",
     "output_type": "stream",
     "text": [
      "ceci est une cellule de Code\n"
     ]
    }
   ],
   "source": [
    "print('ceci est une cellule de Code')"
   ]
  },
  {
   "cell_type": "markdown",
   "metadata": {},
   "source": [
    "Ceci est une cellule de texte. On peut rajouter du **gras** de *l'italique* des [liens](http://www.math.univ-tours.fr/) mais aussi des maths via du $\\LaTeX$\n",
    "$$\\int_{-\\infty}^{+\\infty}{e^{-x^2}dx}=\\sqrt{2\\pi}$$"
   ]
  },
  {
   "cell_type": "markdown",
   "metadata": {},
   "source": [
    "# Introduction au langage python"
   ]
  },
  {
   "cell_type": "markdown",
   "metadata": {},
   "source": [
    "## Types de données élémentaires"
   ]
  },
  {
   "cell_type": "markdown",
   "metadata": {},
   "source": [
    "### Entiers  : `int`"
   ]
  },
  {
   "cell_type": "markdown",
   "metadata": {},
   "source": [
    "On peut faire des calculs sur les entiers avec les opérateurs classiques"
   ]
  },
  {
   "cell_type": "code",
   "execution_count": 2,
   "metadata": {},
   "outputs": [
    {
     "data": {
      "text/plain": [
       "4"
      ]
     },
     "execution_count": 2,
     "metadata": {},
     "output_type": "execute_result"
    }
   ],
   "source": [
    "1+3"
   ]
  },
  {
   "cell_type": "code",
   "execution_count": 3,
   "metadata": {},
   "outputs": [
    {
     "data": {
      "text/plain": [
       "1"
      ]
     },
     "execution_count": 3,
     "metadata": {},
     "output_type": "execute_result"
    }
   ],
   "source": [
    "5-4"
   ]
  },
  {
   "cell_type": "code",
   "execution_count": 4,
   "metadata": {},
   "outputs": [
    {
     "data": {
      "text/plain": [
       "20"
      ]
     },
     "execution_count": 4,
     "metadata": {},
     "output_type": "execute_result"
    }
   ],
   "source": [
    "4*5"
   ]
  },
  {
   "cell_type": "markdown",
   "metadata": {},
   "source": [
    "*La puissance est `**` et pas `^` qui dénote le ou exclusif via la conversion en binaire.*"
   ]
  },
  {
   "cell_type": "code",
   "execution_count": 5,
   "metadata": {},
   "outputs": [
    {
     "data": {
      "text/plain": [
       "8"
      ]
     },
     "execution_count": 5,
     "metadata": {},
     "output_type": "execute_result"
    }
   ],
   "source": [
    "2**3"
   ]
  },
  {
   "cell_type": "code",
   "execution_count": 6,
   "metadata": {},
   "outputs": [
    {
     "data": {
      "text/plain": [
       "1"
      ]
     },
     "execution_count": 6,
     "metadata": {},
     "output_type": "execute_result"
    }
   ],
   "source": [
    "2^3"
   ]
  },
  {
   "cell_type": "code",
   "execution_count": 7,
   "metadata": {},
   "outputs": [
    {
     "name": "stdout",
     "output_type": "stream",
     "text": [
      "0b10 0b11 0b1\n"
     ]
    }
   ],
   "source": [
    "print(bin(2), bin(3), bin(1))"
   ]
  },
  {
   "cell_type": "code",
   "execution_count": 8,
   "metadata": {},
   "outputs": [
    {
     "data": {
      "text/plain": [
       "1957"
      ]
     },
     "execution_count": 8,
     "metadata": {},
     "output_type": "execute_result"
    }
   ],
   "source": [
    "1001^1100"
   ]
  },
  {
   "cell_type": "code",
   "execution_count": 9,
   "metadata": {},
   "outputs": [
    {
     "name": "stdout",
     "output_type": "stream",
     "text": [
      "0b11110100101 0b1111101001 0b10001001100\n"
     ]
    }
   ],
   "source": [
    "print(bin(1957), bin(1001), bin(1100))"
   ]
  },
  {
   "cell_type": "markdown",
   "metadata": {},
   "source": [
    "**Le quotient de la division euclidienne est** `//` et le reste `%`. La division normale, elle, renvoit un nombre à virgule flottante"
   ]
  },
  {
   "cell_type": "code",
   "execution_count": 10,
   "metadata": {},
   "outputs": [
    {
     "data": {
      "text/plain": [
       "11"
      ]
     },
     "execution_count": 10,
     "metadata": {},
     "output_type": "execute_result"
    }
   ],
   "source": [
    "123//11"
   ]
  },
  {
   "cell_type": "code",
   "execution_count": 11,
   "metadata": {},
   "outputs": [
    {
     "data": {
      "text/plain": [
       "2"
      ]
     },
     "execution_count": 11,
     "metadata": {},
     "output_type": "execute_result"
    }
   ],
   "source": [
    "123%11"
   ]
  },
  {
   "cell_type": "code",
   "execution_count": 12,
   "metadata": {},
   "outputs": [
    {
     "data": {
      "text/plain": [
       "11.181818181818182"
      ]
     },
     "execution_count": 12,
     "metadata": {},
     "output_type": "execute_result"
    }
   ],
   "source": [
    "123/11"
   ]
  },
  {
   "cell_type": "markdown",
   "metadata": {},
   "source": [
    "**Exercice**  \n",
    "Utiliser les commandes précédentes pourr calculer le PGCD de $2310$ et $3315$."
   ]
  },
  {
   "cell_type": "code",
   "execution_count": 14,
   "metadata": {},
   "outputs": [
    {
     "name": "stdout",
     "output_type": "stream",
     "text": [
      "2310 3315\n",
      "3315 2310\n",
      "2310 1005\n",
      "1005 300\n",
      "300 105\n",
      "105 90\n",
      "90 15\n",
      "15 0\n"
     ]
    }
   ],
   "source": [
    "a, b = 2310, 3315\n",
    "print(a,b)\n",
    "a, b = b, a%b\n",
    "print(a,b)\n",
    "a, b = b, a%b\n",
    "print(a,b)\n",
    "a, b = b, a%b\n",
    "print(a,b)\n",
    "a, b = b, a%b\n",
    "print(a,b)\n",
    "a, b = b, a%b\n",
    "print(a,b)\n",
    "a, b = b, a%b\n",
    "print(a,b)\n",
    "a, b = b, a%b\n",
    "print(a,b)"
   ]
  },
  {
   "cell_type": "markdown",
   "metadata": {},
   "source": [
    "**On peut tester les types via la fonction `type`**"
   ]
  },
  {
   "cell_type": "code",
   "execution_count": 15,
   "metadata": {},
   "outputs": [
    {
     "data": {
      "text/plain": [
       "int"
      ]
     },
     "execution_count": 15,
     "metadata": {},
     "output_type": "execute_result"
    }
   ],
   "source": [
    "type(11)"
   ]
  },
  {
   "cell_type": "markdown",
   "metadata": {},
   "source": [
    "### Nombres à virgules flottantes : `float`"
   ]
  },
  {
   "cell_type": "markdown",
   "metadata": {},
   "source": [
    "On a ici aussi les opérations artithmétiques usuelles."
   ]
  },
  {
   "cell_type": "code",
   "execution_count": 16,
   "metadata": {},
   "outputs": [
    {
     "data": {
      "text/plain": [
       "2.8"
      ]
     },
     "execution_count": 16,
     "metadata": {},
     "output_type": "execute_result"
    }
   ],
   "source": [
    "1.5+1.3"
   ]
  },
  {
   "cell_type": "code",
   "execution_count": 17,
   "metadata": {},
   "outputs": [
    {
     "data": {
      "text/plain": [
       "10.0"
      ]
     },
     "execution_count": 17,
     "metadata": {},
     "output_type": "execute_result"
    }
   ],
   "source": [
    "15.0-5"
   ]
  },
  {
   "cell_type": "code",
   "execution_count": 18,
   "metadata": {},
   "outputs": [
    {
     "data": {
      "text/plain": [
       "42.0"
      ]
     },
     "execution_count": 18,
     "metadata": {},
     "output_type": "execute_result"
    }
   ],
   "source": [
    "14.*3."
   ]
  },
  {
   "cell_type": "code",
   "execution_count": 19,
   "metadata": {},
   "outputs": [
    {
     "data": {
      "text/plain": [
       "4.666666666666667"
      ]
     },
     "execution_count": 19,
     "metadata": {},
     "output_type": "execute_result"
    }
   ],
   "source": [
    "14./3."
   ]
  },
  {
   "cell_type": "code",
   "execution_count": 20,
   "metadata": {},
   "outputs": [
    {
     "data": {
      "text/plain": [
       "4.0"
      ]
     },
     "execution_count": 20,
     "metadata": {},
     "output_type": "execute_result"
    }
   ],
   "source": [
    "14.//3."
   ]
  },
  {
   "cell_type": "code",
   "execution_count": 21,
   "metadata": {},
   "outputs": [
    {
     "data": {
      "text/plain": [
       "22.54218602980021"
      ]
     },
     "execution_count": 21,
     "metadata": {},
     "output_type": "execute_result"
    }
   ],
   "source": [
    "2.5**3.4"
   ]
  },
  {
   "cell_type": "markdown",
   "metadata": {},
   "source": [
    "### Chaînes de caractères : `str`"
   ]
  },
  {
   "cell_type": "markdown",
   "metadata": {},
   "source": [
    "**Outre les chaines de caractères on introduit aussi les premières variables via l'opérateur d'affectation `=`**"
   ]
  },
  {
   "cell_type": "code",
   "execution_count": 22,
   "metadata": {},
   "outputs": [],
   "source": [
    "message = \"Première chaine de caractères\""
   ]
  },
  {
   "cell_type": "code",
   "execution_count": 23,
   "metadata": {},
   "outputs": [
    {
     "data": {
      "text/plain": [
       "str"
      ]
     },
     "execution_count": 23,
     "metadata": {},
     "output_type": "execute_result"
    }
   ],
   "source": [
    "type(message)"
   ]
  },
  {
   "cell_type": "markdown",
   "metadata": {},
   "source": [
    "**On peut aussi utiliser des triples guillemets pour une chaine de plusieurs lignes**"
   ]
  },
  {
   "cell_type": "code",
   "execution_count": 24,
   "metadata": {},
   "outputs": [],
   "source": [
    "nouvelle = \"\"\"\n",
    "Nouvelles chaine de caractères.\n",
    "On garde les sauts de lignes.\n",
    "    Et éventuellement les alinéas.\n",
    "\"\"\""
   ]
  },
  {
   "cell_type": "markdown",
   "metadata": {},
   "source": [
    "**La fonction `print` permet d'afficher les chaines de caractères** (et autres variables)"
   ]
  },
  {
   "cell_type": "code",
   "execution_count": 25,
   "metadata": {},
   "outputs": [
    {
     "name": "stdout",
     "output_type": "stream",
     "text": [
      "Première chaine de caractères\n"
     ]
    }
   ],
   "source": [
    "print(message)"
   ]
  },
  {
   "cell_type": "code",
   "execution_count": 26,
   "metadata": {},
   "outputs": [
    {
     "name": "stdout",
     "output_type": "stream",
     "text": [
      "\n",
      "Nouvelles chaine de caractères.\n",
      "On garde les sauts de lignes.\n",
      "    Et éventuellement les alinéas.\n",
      "\n"
     ]
    }
   ],
   "source": [
    "print(nouvelle)"
   ]
  },
  {
   "cell_type": "markdown",
   "metadata": {},
   "source": [
    "**On a accès à différentes fonctionnalités via la syntaxe suivante**"
   ]
  },
  {
   "cell_type": "code",
   "execution_count": 27,
   "metadata": {},
   "outputs": [
    {
     "data": {
      "text/plain": [
       "'Première chaine de caractères'"
      ]
     },
     "execution_count": 27,
     "metadata": {},
     "output_type": "execute_result"
    }
   ],
   "source": [
    "message.capitalize()"
   ]
  },
  {
   "cell_type": "code",
   "execution_count": 28,
   "metadata": {},
   "outputs": [
    {
     "data": {
      "text/plain": [
       "'PREMIÈRE CHAINE DE CARACTÈRES'"
      ]
     },
     "execution_count": 28,
     "metadata": {},
     "output_type": "execute_result"
    }
   ],
   "source": [
    "message.upper()"
   ]
  },
  {
   "cell_type": "markdown",
   "metadata": {},
   "source": [
    "**Une des fonctionnalités importantes est** `format` **qui permet de substituer des variables dans chaines de caractères.**"
   ]
  },
  {
   "cell_type": "code",
   "execution_count": 29,
   "metadata": {},
   "outputs": [],
   "source": [
    "a = 5\n",
    "b = \"MOT\""
   ]
  },
  {
   "cell_type": "code",
   "execution_count": 30,
   "metadata": {},
   "outputs": [],
   "source": [
    "chaine = \"un chiffre {}, puis une chaine de caractères {}\".format(a, b)"
   ]
  },
  {
   "cell_type": "code",
   "execution_count": 31,
   "metadata": {},
   "outputs": [
    {
     "name": "stdout",
     "output_type": "stream",
     "text": [
      "un chiffre 5, puis une chaine de caractères MOT\n"
     ]
    }
   ],
   "source": [
    "print(chaine)"
   ]
  },
  {
   "cell_type": "markdown",
   "metadata": {},
   "source": [
    "### Fonctionnalités importantes du notebook"
   ]
  },
  {
   "cell_type": "markdown",
   "metadata": {},
   "source": [
    "- **Dans le notebook on pourra explorer les différentes possibilités en appuyant sur `TAB` après** `message.`. **On pourra aussi utiliser cette fonctionnalité pour compléter les noms de variables et de fonctions. On n'hésitera donc pas à utiliser des noms relativement longs et descriptifs.**\n",
    "\n",
    "- **On pourra aussi voir les arguments et des renseignements simples sur les fonctions en tapant sur** `MAJ`+`TAB`, **à l'intérieur des parenthèses d'un appel de fonctions.**\n",
    "\n",
    "- **Finalement si après un nom de fonction ou de variable on rajoute `?`, on obtiendra une aide plus détaillé.**"
   ]
  },
  {
   "cell_type": "code",
   "execution_count": 32,
   "metadata": {},
   "outputs": [
    {
     "data": {
      "text/plain": [
       "b'Premi\\xc3\\xa8re chaine de caract\\xc3\\xa8res'"
      ]
     },
     "execution_count": 32,
     "metadata": {},
     "output_type": "execute_result"
    }
   ],
   "source": [
    "message.encode()"
   ]
  },
  {
   "cell_type": "markdown",
   "metadata": {},
   "source": [
    "### Booléens : `bool`"
   ]
  },
  {
   "cell_type": "markdown",
   "metadata": {},
   "source": [
    "Les booléns ne sont en fait que deux `True` et `False`, ils permettront de faire de la logique."
   ]
  },
  {
   "cell_type": "code",
   "execution_count": 33,
   "metadata": {},
   "outputs": [
    {
     "data": {
      "text/plain": [
       "bool"
      ]
     },
     "execution_count": 33,
     "metadata": {},
     "output_type": "execute_result"
    }
   ],
   "source": [
    "type(True)"
   ]
  },
  {
   "cell_type": "markdown",
   "metadata": {},
   "source": [
    "Ils sont principalement générés via des opérateurs de comparaisons, dont on va voir les premiers."
   ]
  },
  {
   "cell_type": "code",
   "execution_count": 34,
   "metadata": {},
   "outputs": [
    {
     "data": {
      "text/plain": [
       "False"
      ]
     },
     "execution_count": 34,
     "metadata": {},
     "output_type": "execute_result"
    }
   ],
   "source": [
    "2 == 5"
   ]
  },
  {
   "cell_type": "code",
   "execution_count": 35,
   "metadata": {},
   "outputs": [
    {
     "data": {
      "text/plain": [
       "False"
      ]
     },
     "execution_count": 35,
     "metadata": {},
     "output_type": "execute_result"
    }
   ],
   "source": [
    "2 > 5"
   ]
  },
  {
   "cell_type": "code",
   "execution_count": 36,
   "metadata": {},
   "outputs": [
    {
     "data": {
      "text/plain": [
       "False"
      ]
     },
     "execution_count": 36,
     "metadata": {},
     "output_type": "execute_result"
    }
   ],
   "source": [
    "2 != 2."
   ]
  },
  {
   "cell_type": "markdown",
   "metadata": {},
   "source": [
    "## Types de données composé"
   ]
  },
  {
   "cell_type": "markdown",
   "metadata": {},
   "source": [
    "### Listes : `list`"
   ]
  },
  {
   "cell_type": "markdown",
   "metadata": {},
   "source": [
    "**On explore ici le premier conteneur, qui sera celui qu'on utilisera dans la majorité des situations. Il s'agit d'un conteneur dynamique (i.e. sa taille et son contenu peuvent être changés) permettant de stocker des objets hétérogène (i.e. de types différents).**"
   ]
  },
  {
   "cell_type": "code",
   "execution_count": 37,
   "metadata": {},
   "outputs": [
    {
     "data": {
      "text/plain": [
       "list"
      ]
     },
     "execution_count": 37,
     "metadata": {},
     "output_type": "execute_result"
    }
   ],
   "source": [
    "ma_premiere_liste = [1,2,3,4]\n",
    "type(ma_premiere_liste)"
   ]
  },
  {
   "cell_type": "code",
   "execution_count": 38,
   "metadata": {},
   "outputs": [
    {
     "name": "stdout",
     "output_type": "stream",
     "text": [
      "[1, 2, 3, 4]\n"
     ]
    }
   ],
   "source": [
    "print(ma_premiere_liste)"
   ]
  },
  {
   "cell_type": "markdown",
   "metadata": {},
   "source": [
    "**Remarque** : On notera que l'auto-complétion s'applique aussi aux noms définis par l'utilisateur, on n'hésitera donc pas à donner des noms descriptifs aux variables."
   ]
  },
  {
   "cell_type": "markdown",
   "metadata": {},
   "source": [
    "**On peut accéder aux différents éléments via l'opérateur `[]`**"
   ]
  },
  {
   "cell_type": "code",
   "execution_count": 39,
   "metadata": {},
   "outputs": [
    {
     "data": {
      "text/plain": [
       "1"
      ]
     },
     "execution_count": 39,
     "metadata": {},
     "output_type": "execute_result"
    }
   ],
   "source": [
    "ma_premiere_liste[0]"
   ]
  },
  {
   "cell_type": "code",
   "execution_count": 40,
   "metadata": {},
   "outputs": [
    {
     "data": {
      "text/plain": [
       "4"
      ]
     },
     "execution_count": 40,
     "metadata": {},
     "output_type": "execute_result"
    }
   ],
   "source": [
    "ma_premiere_liste[3]"
   ]
  },
  {
   "cell_type": "code",
   "execution_count": 41,
   "metadata": {},
   "outputs": [
    {
     "name": "stdout",
     "output_type": "stream",
     "text": [
      "[1, 2, 3, 5]\n"
     ]
    }
   ],
   "source": [
    "ma_premiere_liste[3] = 5\n",
    "print(ma_premiere_liste)"
   ]
  },
  {
   "cell_type": "markdown",
   "metadata": {},
   "source": [
    "**On constatera que les indices commencent à 0.**  \n",
    "**On peut utiliser des indices négatifs pour parcourir la liste dans l'autre sens**"
   ]
  },
  {
   "cell_type": "code",
   "execution_count": 42,
   "metadata": {},
   "outputs": [
    {
     "name": "stdout",
     "output_type": "stream",
     "text": [
      "[1, 2, 3, 5]\n",
      "5\n"
     ]
    }
   ],
   "source": [
    "print(ma_premiere_liste)\n",
    "print(ma_premiere_liste[-1])"
   ]
  },
  {
   "cell_type": "markdown",
   "metadata": {},
   "source": [
    "**On peut aussi récupérer des sous parties d'une liste en utilisant du slicing.**"
   ]
  },
  {
   "cell_type": "code",
   "execution_count": 43,
   "metadata": {},
   "outputs": [],
   "source": [
    "une_grande_liste = [1, -1, 2, -2, 3, -3, 4, -4, 5, -5]"
   ]
  },
  {
   "cell_type": "code",
   "execution_count": 44,
   "metadata": {},
   "outputs": [
    {
     "data": {
      "text/plain": [
       "[-2, 3, -3]"
      ]
     },
     "execution_count": 44,
     "metadata": {},
     "output_type": "execute_result"
    }
   ],
   "source": [
    "une_grande_liste[3:6]"
   ]
  },
  {
   "cell_type": "code",
   "execution_count": 45,
   "metadata": {},
   "outputs": [
    {
     "data": {
      "text/plain": [
       "[-1, 2, -2, 3, -3, 4, -4, 5]"
      ]
     },
     "execution_count": 45,
     "metadata": {},
     "output_type": "execute_result"
    }
   ],
   "source": [
    "une_grande_liste[1:-1]"
   ]
  },
  {
   "cell_type": "markdown",
   "metadata": {},
   "source": [
    "**On a là encore beaucoup de fonctionnalités intégrées.**"
   ]
  },
  {
   "cell_type": "code",
   "execution_count": 46,
   "metadata": {},
   "outputs": [
    {
     "name": "stdout",
     "output_type": "stream",
     "text": [
      "[1, 2, 3, 5, 5]\n"
     ]
    }
   ],
   "source": [
    "ma_premiere_liste.append(5)\n",
    "print(ma_premiere_liste)"
   ]
  },
  {
   "cell_type": "code",
   "execution_count": 47,
   "metadata": {},
   "outputs": [
    {
     "name": "stdout",
     "output_type": "stream",
     "text": [
      "[1, 2, 3, 5]\n",
      "5\n"
     ]
    }
   ],
   "source": [
    "x = ma_premiere_liste.pop()\n",
    "print(ma_premiere_liste)\n",
    "print(x)"
   ]
  },
  {
   "cell_type": "code",
   "execution_count": 48,
   "metadata": {},
   "outputs": [
    {
     "name": "stdout",
     "output_type": "stream",
     "text": [
      "[5, 3, 2, 1]\n"
     ]
    }
   ],
   "source": [
    "ma_premiere_liste.reverse()\n",
    "print(ma_premiere_liste)"
   ]
  },
  {
   "cell_type": "markdown",
   "metadata": {},
   "source": [
    "**On pourra aussi utiliser des fonctions qui permettent de ne pas modifier la liste mais d'en renvoyer une nouvelle.**"
   ]
  },
  {
   "cell_type": "code",
   "execution_count": 49,
   "metadata": {},
   "outputs": [
    {
     "name": "stdout",
     "output_type": "stream",
     "text": [
      "[5, 3, 2, 1]\n",
      "[1, 2, 3, 5]\n",
      "[5, 3, 2, 1]\n"
     ]
    }
   ],
   "source": [
    "print(ma_premiere_liste)\n",
    "print(sorted(ma_premiere_liste))\n",
    "print(ma_premiere_liste)"
   ]
  },
  {
   "cell_type": "markdown",
   "metadata": {},
   "source": [
    "### Tuple : `tuple`"
   ]
  },
  {
   "cell_type": "markdown",
   "metadata": {},
   "source": [
    "Les tuples sont des conteneurs hétérogènes mais contrairement aux listes leur contenu est figé après création, c'est d'ailleurs leur intérêt."
   ]
  },
  {
   "cell_type": "code",
   "execution_count": 50,
   "metadata": {},
   "outputs": [
    {
     "name": "stdout",
     "output_type": "stream",
     "text": [
      "<class 'tuple'>\n"
     ]
    }
   ],
   "source": [
    "mon_tuple = (1,2,3,4)\n",
    "print(type(mon_tuple))"
   ]
  },
  {
   "cell_type": "code",
   "execution_count": 51,
   "metadata": {},
   "outputs": [
    {
     "name": "stdout",
     "output_type": "stream",
     "text": [
      "2\n"
     ]
    }
   ],
   "source": [
    "print(mon_tuple[1])"
   ]
  },
  {
   "cell_type": "code",
   "execution_count": 52,
   "metadata": {},
   "outputs": [
    {
     "ename": "TypeError",
     "evalue": "'tuple' object does not support item assignment",
     "output_type": "error",
     "traceback": [
      "\u001b[0;31m---------------------------------------------------------------------------\u001b[0m",
      "\u001b[0;31mTypeError\u001b[0m                                 Traceback (most recent call last)",
      "\u001b[0;32m<ipython-input-52-d3982a05807f>\u001b[0m in \u001b[0;36m<module>\u001b[0;34m()\u001b[0m\n\u001b[0;32m----> 1\u001b[0;31m \u001b[0mmon_tuple\u001b[0m\u001b[0;34m[\u001b[0m\u001b[0;36m2\u001b[0m\u001b[0;34m]\u001b[0m \u001b[0;34m=\u001b[0m \u001b[0;36m5\u001b[0m\u001b[0;34m\u001b[0m\u001b[0m\n\u001b[0m",
      "\u001b[0;31mTypeError\u001b[0m: 'tuple' object does not support item assignment"
     ]
    }
   ],
   "source": [
    "mon_tuple[2] = 5"
   ]
  },
  {
   "cell_type": "markdown",
   "metadata": {},
   "source": [
    "### Ensemble : `set`"
   ]
  },
  {
   "cell_type": "markdown",
   "metadata": {},
   "source": [
    "Ce conteneur est là encore hétérogène et dynamique mais il n'est pas ordonné et ne contient pas de doublon."
   ]
  },
  {
   "cell_type": "code",
   "execution_count": 53,
   "metadata": {},
   "outputs": [
    {
     "name": "stdout",
     "output_type": "stream",
     "text": [
      "<class 'set'>\n",
      "{1, 2, 3, 4}\n"
     ]
    }
   ],
   "source": [
    "mon_premier_ensemble = {1,2,3,4}\n",
    "print(type(mon_premier_ensemble))\n",
    "print(mon_premier_ensemble)"
   ]
  },
  {
   "cell_type": "code",
   "execution_count": 54,
   "metadata": {},
   "outputs": [
    {
     "name": "stdout",
     "output_type": "stream",
     "text": [
      "{1, 2, 3, 4, 5}\n"
     ]
    }
   ],
   "source": [
    "mon_premier_ensemble.add(5)\n",
    "print(mon_premier_ensemble)"
   ]
  },
  {
   "cell_type": "code",
   "execution_count": 55,
   "metadata": {},
   "outputs": [
    {
     "name": "stdout",
     "output_type": "stream",
     "text": [
      "{1, 2, 3, 4, 5}\n"
     ]
    }
   ],
   "source": [
    "mon_premier_ensemble.add(4)\n",
    "print(mon_premier_ensemble)"
   ]
  },
  {
   "cell_type": "markdown",
   "metadata": {},
   "source": [
    "**Remarque** : l'intérêt principal des ensembles est justement de ne pas avoir de doublons et de tester très rapidement l'appartenance (on a aussi les fonctionnalités ensemblistes)"
   ]
  },
  {
   "cell_type": "code",
   "execution_count": 56,
   "metadata": {},
   "outputs": [
    {
     "data": {
      "text/plain": [
       "True"
      ]
     },
     "execution_count": 56,
     "metadata": {},
     "output_type": "execute_result"
    }
   ],
   "source": [
    "2 in mon_premier_ensemble"
   ]
  },
  {
   "cell_type": "code",
   "execution_count": 57,
   "metadata": {},
   "outputs": [
    {
     "name": "stdout",
     "output_type": "stream",
     "text": [
      "{1, 2, 'blabla', 'a'}\n"
     ]
    }
   ],
   "source": [
    "un_autre_ensemble = {1, 2, 'a', 'blabla'}\n",
    "print(un_autre_ensemble)"
   ]
  },
  {
   "cell_type": "code",
   "execution_count": 58,
   "metadata": {},
   "outputs": [
    {
     "data": {
      "text/plain": [
       "{1, 2}"
      ]
     },
     "execution_count": 58,
     "metadata": {},
     "output_type": "execute_result"
    }
   ],
   "source": [
    "un_autre_ensemble.intersection(mon_premier_ensemble)"
   ]
  },
  {
   "cell_type": "code",
   "execution_count": 59,
   "metadata": {},
   "outputs": [
    {
     "data": {
      "text/plain": [
       "{1, 2, 3, 4, 5, 'a', 'blabla'}"
      ]
     },
     "execution_count": 59,
     "metadata": {},
     "output_type": "execute_result"
    }
   ],
   "source": [
    "un_autre_ensemble.union(mon_premier_ensemble)"
   ]
  },
  {
   "cell_type": "code",
   "execution_count": 60,
   "metadata": {},
   "outputs": [
    {
     "data": {
      "text/plain": [
       "{3, 4, 5, 'a', 'blabla'}"
      ]
     },
     "execution_count": 60,
     "metadata": {},
     "output_type": "execute_result"
    }
   ],
   "source": [
    "un_autre_ensemble.symmetric_difference(mon_premier_ensemble)"
   ]
  },
  {
   "cell_type": "markdown",
   "metadata": {},
   "source": [
    "### Dictionnaires : `dict`"
   ]
  },
  {
   "cell_type": "markdown",
   "metadata": {},
   "source": [
    "Les dictionnaires permettent de stocker des objets mais l'indicage n'est plus fait par les entiers mais par d'autres objets."
   ]
  },
  {
   "cell_type": "code",
   "execution_count": 61,
   "metadata": {},
   "outputs": [
    {
     "name": "stdout",
     "output_type": "stream",
     "text": [
      "<class 'dict'>\n"
     ]
    }
   ],
   "source": [
    "mon_premier_dico = {'a' : 'b',\n",
    "                    'aa' : 'bb',\n",
    "                    1 : 2}\n",
    "print(type(mon_premier_dico))"
   ]
  },
  {
   "cell_type": "code",
   "execution_count": 62,
   "metadata": {},
   "outputs": [
    {
     "data": {
      "text/plain": [
       "2"
      ]
     },
     "execution_count": 62,
     "metadata": {},
     "output_type": "execute_result"
    }
   ],
   "source": [
    "mon_premier_dico[1]"
   ]
  },
  {
   "cell_type": "code",
   "execution_count": 63,
   "metadata": {},
   "outputs": [
    {
     "data": {
      "text/plain": [
       "'b'"
      ]
     },
     "execution_count": 63,
     "metadata": {},
     "output_type": "execute_result"
    }
   ],
   "source": [
    "mon_premier_dico['a']"
   ]
  },
  {
   "cell_type": "markdown",
   "metadata": {},
   "source": [
    "**Exercice**\n",
    "- Faites la liste des fonctionnalités des dictionnaires.\n",
    "- Tester en deux par du code."
   ]
  },
  {
   "cell_type": "code",
   "execution_count": 65,
   "metadata": {},
   "outputs": [
    {
     "name": "stdout",
     "output_type": "stream",
     "text": [
      "dict_values(['b', 'bb', 2])\n"
     ]
    }
   ],
   "source": [
    "print(mon_premier_dico.values())"
   ]
  },
  {
   "cell_type": "code",
   "execution_count": 66,
   "metadata": {},
   "outputs": [
    {
     "name": "stdout",
     "output_type": "stream",
     "text": [
      "dict_keys(['a', 'aa', 1])\n"
     ]
    }
   ],
   "source": [
    "print(mon_premier_dico.keys())"
   ]
  },
  {
   "cell_type": "markdown",
   "metadata": {},
   "source": [
    "On peut récupérer séparément les clés et les valeurs."
   ]
  },
  {
   "cell_type": "markdown",
   "metadata": {},
   "source": [
    "## Conversions entre types"
   ]
  },
  {
   "cell_type": "markdown",
   "metadata": {},
   "source": [
    "Il est possible de faire basculer des données d'un type à l'autre."
   ]
  },
  {
   "cell_type": "code",
   "execution_count": 67,
   "metadata": {},
   "outputs": [
    {
     "name": "stdout",
     "output_type": "stream",
     "text": [
      "<class 'int'>\n"
     ]
    }
   ],
   "source": [
    "a = 5\n",
    "print(type(a))"
   ]
  },
  {
   "cell_type": "code",
   "execution_count": 68,
   "metadata": {},
   "outputs": [
    {
     "name": "stdout",
     "output_type": "stream",
     "text": [
      "<class 'float'>\n"
     ]
    }
   ],
   "source": [
    "b = float(a)\n",
    "print(type(b))"
   ]
  },
  {
   "cell_type": "code",
   "execution_count": 69,
   "metadata": {},
   "outputs": [],
   "source": [
    "une_chaine_de_caractères = \"Petit message anodin\""
   ]
  },
  {
   "cell_type": "code",
   "execution_count": 70,
   "metadata": {},
   "outputs": [
    {
     "name": "stdout",
     "output_type": "stream",
     "text": [
      "<class 'str'>\n"
     ]
    }
   ],
   "source": [
    "print(type(une_chaine_de_caractères))"
   ]
  },
  {
   "cell_type": "code",
   "execution_count": 71,
   "metadata": {},
   "outputs": [
    {
     "name": "stdout",
     "output_type": "stream",
     "text": [
      "<class 'list'>\n"
     ]
    }
   ],
   "source": [
    "liste_de_caractères = list(une_chaine_de_caractères)\n",
    "print(type(liste_de_caractères))"
   ]
  },
  {
   "cell_type": "markdown",
   "metadata": {},
   "source": [
    "**Exercice**  \n",
    "Obtenir la liste des caractères utilisés dans la phrase \"La nuit tous les chats sont gris.\" Les caractères devront n'apparaître qu'une fois et être en ordre alphabétique."
   ]
  },
  {
   "cell_type": "code",
   "execution_count": 72,
   "metadata": {},
   "outputs": [
    {
     "data": {
      "text/plain": [
       "[' ', '.', 'a', 'c', 'e', 'g', 'h', 'i', 'l', 'n', 'o', 'r', 's', 't', 'u']"
      ]
     },
     "execution_count": 72,
     "metadata": {},
     "output_type": "execute_result"
    }
   ],
   "source": [
    "entree = \"La nuit tous les chats sont gris.\"\n",
    "sorted(list(set(list(entree.lower()))))"
   ]
  },
  {
   "cell_type": "markdown",
   "metadata": {},
   "source": [
    "## Echanges de variables, et découpage des conteneurs"
   ]
  },
  {
   "cell_type": "markdown",
   "metadata": {},
   "source": [
    "Si on veut échanger le contenu de plusieurs variables on a une syntaxe permettant de le faire sans variables intermédiaires."
   ]
  },
  {
   "cell_type": "code",
   "execution_count": 73,
   "metadata": {},
   "outputs": [
    {
     "name": "stdout",
     "output_type": "stream",
     "text": [
      "1 2\n"
     ]
    }
   ],
   "source": [
    "a, b = 1, 2\n",
    "print(a,b)"
   ]
  },
  {
   "cell_type": "code",
   "execution_count": 74,
   "metadata": {},
   "outputs": [
    {
     "name": "stdout",
     "output_type": "stream",
     "text": [
      "2 1\n"
     ]
    }
   ],
   "source": [
    "a, b = b , a\n",
    "print(a,b)"
   ]
  },
  {
   "cell_type": "code",
   "execution_count": 75,
   "metadata": {},
   "outputs": [
    {
     "name": "stdout",
     "output_type": "stream",
     "text": [
      "1 2 3\n"
     ]
    }
   ],
   "source": [
    "a,b,c = 1, 2, 3\n",
    "print(a,b,c)"
   ]
  },
  {
   "cell_type": "code",
   "execution_count": 76,
   "metadata": {},
   "outputs": [
    {
     "name": "stdout",
     "output_type": "stream",
     "text": [
      "2 3 1\n"
     ]
    }
   ],
   "source": [
    "a, b, c = b, c, a\n",
    "print(a,b,c)"
   ]
  },
  {
   "cell_type": "markdown",
   "metadata": {},
   "source": [
    "On a des possibilités plus avancées avec des listes à gauches"
   ]
  },
  {
   "cell_type": "code",
   "execution_count": 77,
   "metadata": {},
   "outputs": [
    {
     "name": "stdout",
     "output_type": "stream",
     "text": [
      "la liste vaut :  [[1, 2], [3, 4]]\n",
      "a contient :  [1, 2]\n",
      "b contient :  [3, 4]\n"
     ]
    }
   ],
   "source": [
    "liste = [[1, 2], [3, 4]]\n",
    "print(\"la liste vaut : \", liste)\n",
    "a, b = liste\n",
    "print(\"a contient : \", a)\n",
    "print(\"b contient : \", b)"
   ]
  },
  {
   "cell_type": "markdown",
   "metadata": {},
   "source": [
    "On pourra regarder toutes les possibilités sur le site [python.org](https://docs.python.org/3/)."
   ]
  },
  {
   "cell_type": "code",
   "execution_count": 78,
   "metadata": {},
   "outputs": [
    {
     "name": "stdout",
     "output_type": "stream",
     "text": [
      "[0, 1, 2, 3, 4, 5]\n"
     ]
    }
   ],
   "source": [
    "liste = list(range(6))\n",
    "print(liste)"
   ]
  },
  {
   "cell_type": "code",
   "execution_count": 79,
   "metadata": {},
   "outputs": [
    {
     "name": "stdout",
     "output_type": "stream",
     "text": [
      "a contient :  0\n",
      "b contient :  [1, 2, 3, 4]\n",
      "c contient :  5\n"
     ]
    }
   ],
   "source": [
    "a, *b, c = liste\n",
    "print(\"a contient : \", a)\n",
    "print(\"b contient : \", b)\n",
    "print(\"c contient : \", c)"
   ]
  },
  {
   "cell_type": "code",
   "execution_count": 80,
   "metadata": {},
   "outputs": [
    {
     "name": "stdout",
     "output_type": "stream",
     "text": [
      "a contient :  [0, 1, 2, 3]\n",
      "b contient :  4\n",
      "c contient :  5\n"
     ]
    }
   ],
   "source": [
    "*a, b, c = liste\n",
    "print(\"a contient : \", a)\n",
    "print(\"b contient : \", b)\n",
    "print(\"c contient : \", c)"
   ]
  },
  {
   "cell_type": "markdown",
   "metadata": {},
   "source": [
    "**Attention**\n",
    "On a du utilisée `list(range)` car par défaut `range` renvoit un type plus compliqué, c'est un itérateur."
   ]
  },
  {
   "cell_type": "markdown",
   "metadata": {},
   "source": [
    "**Exercice**  \n",
    "Générer la liste des multiples de trois de 100 à 150, (on pourra regarder la syntaxe de `range`)"
   ]
  },
  {
   "cell_type": "code",
   "execution_count": 81,
   "metadata": {},
   "outputs": [
    {
     "name": "stdout",
     "output_type": "stream",
     "text": [
      "[102, 105, 108, 111, 114, 117, 120, 123, 126, 129, 132, 135, 138, 141, 144, 147, 150]\n"
     ]
    }
   ],
   "source": [
    "multiples_de_trois = [x for x in range(100, 151) if x%3 == 0]\n",
    "print(multiples_de_trois)"
   ]
  },
  {
   "cell_type": "markdown",
   "metadata": {},
   "source": [
    "## Modèle de donnée en python : Variables et Objets"
   ]
  },
  {
   "cell_type": "markdown",
   "metadata": {},
   "source": [
    "**Il ne faut en aucun cas penser en terme de variable contenant des objets, mais plutôt comme des variables ayant des noms mais pas de type pointant vers des objets ayant des types mais pas de noms.**"
   ]
  },
  {
   "cell_type": "code",
   "execution_count": 82,
   "metadata": {},
   "outputs": [
    {
     "name": "stdout",
     "output_type": "stream",
     "text": [
      "les deux variables ont la même valeur : True\n",
      "[1, 2, 3, 4, 5]\n",
      "[1, 2, 3, 4, 5]\n",
      "Mais les objets sont distincts\n",
      "[1, 2, 3, 4, 5, 6]\n",
      "[1, 2, 3, 4, 5]\n"
     ]
    }
   ],
   "source": [
    "a = [1, 2, 3, 4, 5]\n",
    "b = [1, 2, 3, 4, 5]\n",
    "\n",
    "print(\"les deux variables ont la même valeur :\", a == b)\n",
    "\n",
    "print(a)\n",
    "print(b)\n",
    "\n",
    "print(\"Mais les objets sont distincts\")\n",
    "a.append(6)\n",
    "print(a)\n",
    "print(b)"
   ]
  },
  {
   "cell_type": "code",
   "execution_count": 83,
   "metadata": {},
   "outputs": [
    {
     "name": "stdout",
     "output_type": "stream",
     "text": [
      "les deux variables on la même valeur : True\n",
      "[1, 2, 3, 4, 5]\n",
      "[1, 2, 3, 4, 5]\n",
      "cette fois ci il n'y a qu'un seul objet sous jacent\n",
      "[1, 2, 3, 4, 5, 6]\n",
      "[1, 2, 3, 4, 5, 6]\n",
      "On peut tester cette identité de l'objet sous jacent de la façon suivante\n",
      "True\n"
     ]
    }
   ],
   "source": [
    "a = [1, 2, 3, 4, 5]\n",
    "b = a\n",
    "print(\"les deux variables on la même valeur :\", a==b)\n",
    "print(a)\n",
    "print(b)\n",
    "\n",
    "print(\"cette fois ci il n'y a qu'un seul objet sous jacent\")\n",
    "a.append(6)\n",
    "print(a)\n",
    "print(b)\n",
    "\n",
    "print(\"On peut tester cette identité de l'objet sous jacent de la façon suivante\")\n",
    "print(a is b)"
   ]
  },
  {
   "cell_type": "markdown",
   "metadata": {},
   "source": [
    "# Structuration du code"
   ]
  },
  {
   "cell_type": "markdown",
   "metadata": {},
   "source": [
    "**Pour les différentes structurations les blocs commencent pas `:` et sont délimités via l'indentation (i.e. l'espacement).**"
   ]
  },
  {
   "cell_type": "markdown",
   "metadata": {},
   "source": [
    "## Boucle `for`\n",
    "\n",
    "**Elle permet de parcourir tous les conteneurs et autres objets itérables...**"
   ]
  },
  {
   "cell_type": "code",
   "execution_count": 84,
   "metadata": {},
   "outputs": [
    {
     "name": "stdout",
     "output_type": "stream",
     "text": [
      "1\n",
      "2\n",
      "3\n",
      "4\n",
      "5\n",
      "6\n",
      "7\n"
     ]
    }
   ],
   "source": [
    "liste = [1, 2, 3, 4, 5, 6, 7]\n",
    "for x in liste:\n",
    "    print(x)"
   ]
  },
  {
   "cell_type": "code",
   "execution_count": 85,
   "metadata": {},
   "outputs": [
    {
     "name": "stdout",
     "output_type": "stream",
     "text": [
      "5  :  25\n",
      "6  :  36\n",
      "7  :  49\n",
      "8  :  64\n",
      "9  :  81\n",
      "10  :  100\n",
      "11  :  121\n",
      "12  :  144\n",
      "13  :  169\n",
      "14  :  196\n",
      "15  :  225\n",
      "16  :  256\n",
      "17  :  289\n",
      "18  :  324\n",
      "19  :  361\n"
     ]
    }
   ],
   "source": [
    "for i in range(5, 20):\n",
    "    print(i, \" : \", i**2)"
   ]
  },
  {
   "cell_type": "markdown",
   "metadata": {},
   "source": [
    "**On a une syntaxe permettant facilement créer une liste/conteneur à partir d'un autre conteneur, la compréhension de liste.**"
   ]
  },
  {
   "cell_type": "code",
   "execution_count": 86,
   "metadata": {},
   "outputs": [
    {
     "name": "stdout",
     "output_type": "stream",
     "text": [
      "[1, 4, 9, 16, 25, 36, 49, 64, 81, 100]\n"
     ]
    }
   ],
   "source": [
    "carres = [x**2 for x in range(1, 11)]\n",
    "print(carres)"
   ]
  },
  {
   "cell_type": "code",
   "execution_count": 87,
   "metadata": {},
   "outputs": [
    {
     "name": "stdout",
     "output_type": "stream",
     "text": [
      "[1, 8, 27, 64, 125, 216, 343, 512, 729, 1000]\n"
     ]
    }
   ],
   "source": [
    "cubes = [x**3 for x in range(1, 11)]\n",
    "print(cubes)"
   ]
  },
  {
   "cell_type": "markdown",
   "metadata": {},
   "source": [
    "**Noter que l'on aurait pu procéder aussi de la façon suivante**"
   ]
  },
  {
   "cell_type": "code",
   "execution_count": 91,
   "metadata": {},
   "outputs": [
    {
     "name": "stdout",
     "output_type": "stream",
     "text": [
      "[1, 4, 9, 16, 25, 36, 49, 64, 81, 100]\n"
     ]
    }
   ],
   "source": [
    "carres = []\n",
    "for x in range(1, 11):\n",
    "    carres.append(x**2)\n",
    "print(carres)"
   ]
  },
  {
   "cell_type": "markdown",
   "metadata": {},
   "source": [
    "**On peut également itérer sur plusieurs listes en parallèles via** `zip`"
   ]
  },
  {
   "cell_type": "code",
   "execution_count": 88,
   "metadata": {},
   "outputs": [
    {
     "name": "stdout",
     "output_type": "stream",
     "text": [
      "[0, 4, 18, 48, 100, 180, 294, 448, 648, 900]\n"
     ]
    }
   ],
   "source": [
    "differences = [y-x for x,y in zip(carres, cubes)]\n",
    "print(differences)"
   ]
  },
  {
   "cell_type": "markdown",
   "metadata": {},
   "source": [
    "## Test"
   ]
  },
  {
   "cell_type": "markdown",
   "metadata": {},
   "source": [
    "**On peut utiliser entre autres les opérateurs de comparaisons :**\n",
    "`==`, `!=`, `<`, `>`, `<=`, `>=`, `is`, `in`"
   ]
  },
  {
   "cell_type": "code",
   "execution_count": 89,
   "metadata": {},
   "outputs": [
    {
     "name": "stdout",
     "output_type": "stream",
     "text": [
      "a est strictement plus grand que b\n"
     ]
    }
   ],
   "source": [
    "a, b = 1, 0\n",
    "if a == b:\n",
    "    print(\"a est égal à b\")\n",
    "elif a < b:\n",
    "    print(\"a est strictement plus petit que b\")\n",
    "else:\n",
    "    print(\"a est strictement plus grand que b\")"
   ]
  },
  {
   "cell_type": "code",
   "execution_count": 92,
   "metadata": {},
   "outputs": [
    {
     "name": "stdout",
     "output_type": "stream",
     "text": [
      "a et b pointent vers le même objet\n"
     ]
    }
   ],
   "source": [
    "a = [1, 2, 3]\n",
    "b = a \n",
    "if a is b:\n",
    "    print(\"a et b pointent vers le même objet\")\n",
    "elif a == b:\n",
    "    print(\"a et b ont même valeur mais pointent vers des objets différents\")\n",
    "else:\n",
    "    print(\"a et b ont des valeurs différentes\")\n",
    "    "
   ]
  },
  {
   "cell_type": "markdown",
   "metadata": {},
   "source": [
    "**On peut aussi composer des tests avec `and` et `or`**"
   ]
  },
  {
   "cell_type": "code",
   "execution_count": 93,
   "metadata": {},
   "outputs": [
    {
     "name": "stdout",
     "output_type": "stream",
     "text": [
      "a et b sont opposés\n"
     ]
    }
   ],
   "source": [
    "a, b = -1, 1\n",
    "if (a != b) and (a**2 == b**2):\n",
    "    print(\"a et b sont opposés\")"
   ]
  },
  {
   "cell_type": "markdown",
   "metadata": {},
   "source": [
    "**Finalement on peut tester sur le type de donnée par exemple avant d'effectuer une certaine action dessus.**"
   ]
  },
  {
   "cell_type": "code",
   "execution_count": 94,
   "metadata": {
    "scrolled": true
   },
   "outputs": [
    {
     "name": "stdout",
     "output_type": "stream",
     "text": [
      "a est entier\n"
     ]
    }
   ],
   "source": [
    "a = 1\n",
    "if isinstance(a, int):\n",
    "    print(\"a est entier\")\n",
    "elif isinstance(a, float):\n",
    "    print(\"a est un nombre à virgule flottante\")\n",
    "elif isinstance(a, bool):\n",
    "    print(\"a est un booléen\")\n"
   ]
  },
  {
   "cell_type": "markdown",
   "metadata": {},
   "source": [
    "## Boucle `while`"
   ]
  },
  {
   "cell_type": "markdown",
   "metadata": {},
   "source": [
    "Il peut être important de renouveler une action jusqu'a ce qu'une condition soit remplie. On fera par contre attention à être sûr que la boucle termine avant de la lancer."
   ]
  },
  {
   "cell_type": "code",
   "execution_count": 95,
   "metadata": {},
   "outputs": [
    {
     "name": "stdout",
     "output_type": "stream",
     "text": [
      "1.3333333333333333 1.6666666666666667\n",
      "1.4444444444444444 1.5555555555555556\n",
      "1.4814814814814816 1.5185185185185184\n",
      "1.4938271604938274 1.5061728395061726\n",
      "1.4979423868312758 1.5020576131687242\n"
     ]
    }
   ],
   "source": [
    "a, b = 1, 2\n",
    "while abs(b-a) > 0.005:\n",
    "    a, b = (2*a+b)/3, (a+2*b)/3\n",
    "    print(a,b)"
   ]
  },
  {
   "cell_type": "markdown",
   "metadata": {},
   "source": [
    "## Fonctions"
   ]
  },
  {
   "cell_type": "markdown",
   "metadata": {},
   "source": [
    "**On peut regrouper des séquences d'actions dans une fonction via la syntaxe suivante.**"
   ]
  },
  {
   "cell_type": "code",
   "execution_count": 96,
   "metadata": {},
   "outputs": [],
   "source": [
    "def double(x):\n",
    "    return x*2"
   ]
  },
  {
   "cell_type": "code",
   "execution_count": 97,
   "metadata": {},
   "outputs": [
    {
     "data": {
      "text/plain": [
       "10"
      ]
     },
     "execution_count": 97,
     "metadata": {},
     "output_type": "execute_result"
    }
   ],
   "source": [
    "double(5)"
   ]
  },
  {
   "cell_type": "code",
   "execution_count": 98,
   "metadata": {},
   "outputs": [
    {
     "data": {
      "text/plain": [
       "10.0"
      ]
     },
     "execution_count": 98,
     "metadata": {},
     "output_type": "execute_result"
    }
   ],
   "source": [
    "double(5.0)"
   ]
  },
  {
   "cell_type": "code",
   "execution_count": 99,
   "metadata": {},
   "outputs": [
    {
     "data": {
      "text/plain": [
       "[1, 2, 1, 2]"
      ]
     },
     "execution_count": 99,
     "metadata": {},
     "output_type": "execute_result"
    }
   ],
   "source": [
    "double([1,2])"
   ]
  },
  {
   "cell_type": "markdown",
   "metadata": {},
   "source": [
    "**On notera que les arguments ne sont pas typés par défaut et que l'action réalisé peut dépendre de l'argument fourni.**"
   ]
  },
  {
   "cell_type": "markdown",
   "metadata": {},
   "source": [
    "**On peut également fournir des valeurs par défaut via la syntaxe suivante.**"
   ]
  },
  {
   "cell_type": "code",
   "execution_count": 100,
   "metadata": {},
   "outputs": [],
   "source": [
    "def puissance(x,p=2):\n",
    "    return x**p"
   ]
  },
  {
   "cell_type": "code",
   "execution_count": 101,
   "metadata": {},
   "outputs": [
    {
     "data": {
      "text/plain": [
       "8"
      ]
     },
     "execution_count": 101,
     "metadata": {},
     "output_type": "execute_result"
    }
   ],
   "source": [
    "puissance(2, 3)"
   ]
  },
  {
   "cell_type": "code",
   "execution_count": 102,
   "metadata": {},
   "outputs": [
    {
     "data": {
      "text/plain": [
       "9"
      ]
     },
     "execution_count": 102,
     "metadata": {},
     "output_type": "execute_result"
    }
   ],
   "source": [
    "puissance(3)"
   ]
  },
  {
   "cell_type": "markdown",
   "metadata": {},
   "source": [
    "**On peut changer l'ordre des arguments si on utilise leurs noms**"
   ]
  },
  {
   "cell_type": "code",
   "execution_count": 103,
   "metadata": {},
   "outputs": [
    {
     "data": {
      "text/plain": [
       "125"
      ]
     },
     "execution_count": 103,
     "metadata": {},
     "output_type": "execute_result"
    }
   ],
   "source": [
    "puissance(p=3, x=5)"
   ]
  },
  {
   "cell_type": "markdown",
   "metadata": {},
   "source": [
    "**On peut fournir une explication rapide sur la fonction via une chaine de caractère sur la deuxième ligne qui sera fourni entre autre via l'appel** `MAJ`+`TAB`"
   ]
  },
  {
   "cell_type": "code",
   "execution_count": 104,
   "metadata": {},
   "outputs": [],
   "source": [
    "def puissance_bizarre(x):\n",
    "    \"\"\"Renvoit x**2 si x est pair et x**3 si x est impair\"\"\"\n",
    "    if x % 2 == 0:\n",
    "        return x**2\n",
    "    else:\n",
    "        return x**3"
   ]
  },
  {
   "cell_type": "code",
   "execution_count": 105,
   "metadata": {},
   "outputs": [
    {
     "data": {
      "text/plain": [
       "4"
      ]
     },
     "execution_count": 105,
     "metadata": {},
     "output_type": "execute_result"
    }
   ],
   "source": [
    "puissance_bizarre(2)"
   ]
  },
  {
   "cell_type": "code",
   "execution_count": 106,
   "metadata": {},
   "outputs": [
    {
     "data": {
      "text/plain": [
       "27"
      ]
     },
     "execution_count": 106,
     "metadata": {},
     "output_type": "execute_result"
    }
   ],
   "source": [
    "puissance_bizarre(3)"
   ]
  },
  {
   "cell_type": "markdown",
   "metadata": {},
   "source": [
    "# Fonctions magiques du notebook"
   ]
  },
  {
   "cell_type": "markdown",
   "metadata": {},
   "source": [
    "**On a accès à plusieurs fonctions qui sont des spécificités du notebook, et qui apportent diverses fonctionnalités.**"
   ]
  },
  {
   "cell_type": "code",
   "execution_count": 107,
   "metadata": {},
   "outputs": [
    {
     "name": "stdout",
     "output_type": "stream",
     "text": [
      "10 loops, best of 3: 149 ms per loop\n"
     ]
    }
   ],
   "source": [
    "%%timeit\n",
    "\n",
    "ll = list()\n",
    "for i in range(1000):\n",
    "    for j in range(1000):\n",
    "        ll.append(i*j)"
   ]
  },
  {
   "cell_type": "code",
   "execution_count": 108,
   "metadata": {},
   "outputs": [
    {
     "name": "stdout",
     "output_type": "stream",
     "text": [
      "CPU times: user 280 ms, sys: 24 ms, total: 304 ms\n",
      "Wall time: 304 ms\n"
     ]
    }
   ],
   "source": [
    "%%time \n",
    "\n",
    "ll = list()\n",
    "for i in range(1000):\n",
    "    for j in range(1000):\n",
    "        ll.append(i*j)"
   ]
  },
  {
   "cell_type": "markdown",
   "metadata": {},
   "source": [
    "**Voici la liste des fonctions magiques disponibles d'emblée.** \n",
    "\n",
    "*On peut en fait en rajouter d'autres via* `%load_ext`"
   ]
  },
  {
   "cell_type": "code",
   "execution_count": 109,
   "metadata": {},
   "outputs": [
    {
     "data": {
      "application/json": {
       "cell": {
        "!": "OSMagics",
        "HTML": "Other",
        "SVG": "Other",
        "bash": "Other",
        "capture": "ExecutionMagics",
        "debug": "ExecutionMagics",
        "file": "Other",
        "html": "DisplayMagics",
        "javascript": "DisplayMagics",
        "js": "DisplayMagics",
        "latex": "DisplayMagics",
        "perl": "Other",
        "prun": "ExecutionMagics",
        "pypy": "Other",
        "python": "Other",
        "python2": "Other",
        "python3": "Other",
        "ruby": "Other",
        "script": "ScriptMagics",
        "sh": "Other",
        "svg": "DisplayMagics",
        "sx": "OSMagics",
        "system": "OSMagics",
        "time": "ExecutionMagics",
        "timeit": "ExecutionMagics",
        "writefile": "OSMagics"
       },
       "line": {
        "alias": "OSMagics",
        "alias_magic": "BasicMagics",
        "autocall": "AutoMagics",
        "automagic": "AutoMagics",
        "autosave": "KernelMagics",
        "bookmark": "OSMagics",
        "cat": "Other",
        "cd": "OSMagics",
        "clear": "KernelMagics",
        "colors": "BasicMagics",
        "config": "ConfigMagics",
        "connect_info": "KernelMagics",
        "cp": "Other",
        "debug": "ExecutionMagics",
        "dhist": "OSMagics",
        "dirs": "OSMagics",
        "doctest_mode": "BasicMagics",
        "ed": "Other",
        "edit": "KernelMagics",
        "env": "OSMagics",
        "gui": "BasicMagics",
        "hist": "Other",
        "history": "HistoryMagics",
        "killbgscripts": "ScriptMagics",
        "ldir": "Other",
        "less": "KernelMagics",
        "lf": "Other",
        "lk": "Other",
        "ll": "Other",
        "load": "CodeMagics",
        "load_ext": "ExtensionMagics",
        "loadpy": "CodeMagics",
        "logoff": "LoggingMagics",
        "logon": "LoggingMagics",
        "logstart": "LoggingMagics",
        "logstate": "LoggingMagics",
        "logstop": "LoggingMagics",
        "ls": "Other",
        "lsmagic": "BasicMagics",
        "lx": "Other",
        "macro": "ExecutionMagics",
        "magic": "BasicMagics",
        "man": "KernelMagics",
        "matplotlib": "PylabMagics",
        "mkdir": "Other",
        "more": "KernelMagics",
        "mv": "Other",
        "notebook": "BasicMagics",
        "page": "BasicMagics",
        "pastebin": "CodeMagics",
        "pdb": "ExecutionMagics",
        "pdef": "NamespaceMagics",
        "pdoc": "NamespaceMagics",
        "pfile": "NamespaceMagics",
        "pinfo": "NamespaceMagics",
        "pinfo2": "NamespaceMagics",
        "popd": "OSMagics",
        "pprint": "BasicMagics",
        "precision": "BasicMagics",
        "profile": "BasicMagics",
        "prun": "ExecutionMagics",
        "psearch": "NamespaceMagics",
        "psource": "NamespaceMagics",
        "pushd": "OSMagics",
        "pwd": "OSMagics",
        "pycat": "OSMagics",
        "pylab": "PylabMagics",
        "qtconsole": "KernelMagics",
        "quickref": "BasicMagics",
        "recall": "HistoryMagics",
        "rehashx": "OSMagics",
        "reload_ext": "ExtensionMagics",
        "rep": "Other",
        "rerun": "HistoryMagics",
        "reset": "NamespaceMagics",
        "reset_selective": "NamespaceMagics",
        "rm": "Other",
        "rmdir": "Other",
        "run": "ExecutionMagics",
        "save": "CodeMagics",
        "sc": "OSMagics",
        "set_env": "OSMagics",
        "store": "StoreMagics",
        "sx": "OSMagics",
        "system": "OSMagics",
        "tb": "ExecutionMagics",
        "time": "ExecutionMagics",
        "timeit": "ExecutionMagics",
        "unalias": "OSMagics",
        "unload_ext": "ExtensionMagics",
        "who": "NamespaceMagics",
        "who_ls": "NamespaceMagics",
        "whos": "NamespaceMagics",
        "xdel": "NamespaceMagics",
        "xmode": "BasicMagics"
       }
      },
      "text/plain": [
       "Available line magics:\n",
       "%alias  %alias_magic  %autocall  %automagic  %autosave  %bookmark  %cat  %cd  %clear  %colors  %config  %connect_info  %cp  %debug  %dhist  %dirs  %doctest_mode  %ed  %edit  %env  %gui  %hist  %history  %killbgscripts  %ldir  %less  %lf  %lk  %ll  %load  %load_ext  %loadpy  %logoff  %logon  %logstart  %logstate  %logstop  %ls  %lsmagic  %lx  %macro  %magic  %man  %matplotlib  %mkdir  %more  %mv  %notebook  %page  %pastebin  %pdb  %pdef  %pdoc  %pfile  %pinfo  %pinfo2  %popd  %pprint  %precision  %profile  %prun  %psearch  %psource  %pushd  %pwd  %pycat  %pylab  %qtconsole  %quickref  %recall  %rehashx  %reload_ext  %rep  %rerun  %reset  %reset_selective  %rm  %rmdir  %run  %save  %sc  %set_env  %store  %sx  %system  %tb  %time  %timeit  %unalias  %unload_ext  %who  %who_ls  %whos  %xdel  %xmode\n",
       "\n",
       "Available cell magics:\n",
       "%%!  %%HTML  %%SVG  %%bash  %%capture  %%debug  %%file  %%html  %%javascript  %%js  %%latex  %%perl  %%prun  %%pypy  %%python  %%python2  %%python3  %%ruby  %%script  %%sh  %%svg  %%sx  %%system  %%time  %%timeit  %%writefile\n",
       "\n",
       "Automagic is ON, % prefix IS NOT needed for line magics."
      ]
     },
     "execution_count": 109,
     "metadata": {},
     "output_type": "execute_result"
    }
   ],
   "source": [
    "%lsmagic"
   ]
  },
  {
   "cell_type": "markdown",
   "metadata": {},
   "source": [
    "## Modules additionnels"
   ]
  },
  {
   "cell_type": "markdown",
   "metadata": {},
   "source": [
    "Python possède une bibliothèque standard fournie pour obtenir des fonctionnalités supplémentaires. On peut également définir ses propres modules et en obtenir d'autres via des gestionnaires de paquets (on aura l'occasions de le faire dans de prochains TPs)"
   ]
  },
  {
   "cell_type": "code",
   "execution_count": 110,
   "metadata": {},
   "outputs": [],
   "source": [
    "import math as ma"
   ]
  },
  {
   "cell_type": "code",
   "execution_count": 111,
   "metadata": {},
   "outputs": [
    {
     "data": {
      "text/plain": [
       "6.123233995736766e-17"
      ]
     },
     "execution_count": 111,
     "metadata": {},
     "output_type": "execute_result"
    }
   ],
   "source": [
    "ma.cos(ma.pi/2)"
   ]
  },
  {
   "cell_type": "code",
   "execution_count": 112,
   "metadata": {},
   "outputs": [
    {
     "data": {
      "text/plain": [
       "0.6595834124225789"
      ]
     },
     "execution_count": 112,
     "metadata": {},
     "output_type": "execute_result"
    }
   ],
   "source": [
    "ma.exp(ma.cos(2))"
   ]
  },
  {
   "cell_type": "markdown",
   "metadata": {},
   "source": [
    "**Exercice**  \n",
    "- Déterminer les fonctionnalités des paquets `math`, `fractions` et `decimal` en utilisant l'aide.\n",
    "- Utiliser l'auto-complétion pour explorer les fonctionnalités des paquets."
   ]
  },
  {
   "cell_type": "markdown",
   "metadata": {},
   "source": [
    "**Le module** `fractions` **permet d'utiliser des fractions pour faire des calculs exacts.**"
   ]
  },
  {
   "cell_type": "code",
   "execution_count": 113,
   "metadata": {},
   "outputs": [],
   "source": [
    "from fractions import Fraction"
   ]
  },
  {
   "cell_type": "code",
   "execution_count": 114,
   "metadata": {},
   "outputs": [
    {
     "name": "stdout",
     "output_type": "stream",
     "text": [
      "19/6\n",
      "5/3\n"
     ]
    }
   ],
   "source": [
    "a = Fraction(5, 2)\n",
    "b = Fraction(2, 3)\n",
    "print(a+b)\n",
    "print(a*b)"
   ]
  },
  {
   "cell_type": "markdown",
   "metadata": {},
   "source": [
    "**Le module** `decimal` **permet de travailler avec un nombre arbitraire de chiffres après la virgule pour une meilleure précision**."
   ]
  },
  {
   "cell_type": "code",
   "execution_count": 115,
   "metadata": {},
   "outputs": [],
   "source": [
    "import decimal as dec"
   ]
  },
  {
   "cell_type": "code",
   "execution_count": 121,
   "metadata": {},
   "outputs": [
    {
     "name": "stdout",
     "output_type": "stream",
     "text": [
      "0.3333333333333333333333333333\n"
     ]
    }
   ],
   "source": [
    "x = dec.Decimal(\"1\")\n",
    "y = dec.Decimal(\"3\")\n",
    "x/y"
   ]
  },
  {
   "cell_type": "code",
   "execution_count": 125,
   "metadata": {},
   "outputs": [
    {
     "data": {
      "text/plain": [
       "Decimal('0.33333333333333333333333333333333333333333333333333333333333333333333333333333333333333333333333333333333333333333333333333333333333333333333333333333333333333333333333333333333333333333333333333333333')"
      ]
     },
     "execution_count": 125,
     "metadata": {},
     "output_type": "execute_result"
    }
   ],
   "source": [
    "c = dec.Context(prec=200)\n",
    "dec.setcontext(c)\n",
    "x = dec.Decimal(\"1\")\n",
    "y = dec.Decimal(\"3\")\n",
    "x/y"
   ]
  },
  {
   "cell_type": "markdown",
   "metadata": {},
   "source": [
    "# Exemples"
   ]
  },
  {
   "cell_type": "markdown",
   "metadata": {},
   "source": [
    "## Suite de Fibonacci"
   ]
  },
  {
   "cell_type": "code",
   "execution_count": 126,
   "metadata": {},
   "outputs": [],
   "source": [
    "def fibo(n):\n",
    "    \"\"\"Calcul des n premiers termes de la suite de Fibonacci\"\"\"\n",
    "    resultat = [0, 1]\n",
    "    while len(resultat) < n:\n",
    "        resultat.append(resultat[-1]+resultat[-2])\n",
    "    return resultat"
   ]
  },
  {
   "cell_type": "code",
   "execution_count": 127,
   "metadata": {},
   "outputs": [
    {
     "data": {
      "text/plain": [
       "[0, 1, 1, 2, 3, 5, 8, 13, 21, 34]"
      ]
     },
     "execution_count": 127,
     "metadata": {},
     "output_type": "execute_result"
    }
   ],
   "source": [
    "fibo(10)"
   ]
  },
  {
   "cell_type": "code",
   "execution_count": 128,
   "metadata": {},
   "outputs": [
    {
     "data": {
      "text/plain": [
       "[0,\n",
       " 1,\n",
       " 1,\n",
       " 2,\n",
       " 3,\n",
       " 5,\n",
       " 8,\n",
       " 13,\n",
       " 21,\n",
       " 34,\n",
       " 55,\n",
       " 89,\n",
       " 144,\n",
       " 233,\n",
       " 377,\n",
       " 610,\n",
       " 987,\n",
       " 1597,\n",
       " 2584,\n",
       " 4181]"
      ]
     },
     "execution_count": 128,
     "metadata": {},
     "output_type": "execute_result"
    }
   ],
   "source": [
    "fibo(20)"
   ]
  },
  {
   "cell_type": "markdown",
   "metadata": {},
   "source": [
    "## Primalité"
   ]
  },
  {
   "cell_type": "code",
   "execution_count": 129,
   "metadata": {},
   "outputs": [],
   "source": [
    "def est_premier(n):\n",
    "    \"\"\"Renvoit True si n est premier, False sinon\"\"\"\n",
    "    if n<0:\n",
    "        n = -n\n",
    "    if n<2:\n",
    "        return False\n",
    "    for i in range(2, n//2+1):\n",
    "        if n%i == 0:\n",
    "            return False\n",
    "    return True"
   ]
  },
  {
   "cell_type": "code",
   "execution_count": 130,
   "metadata": {},
   "outputs": [
    {
     "name": "stdout",
     "output_type": "stream",
     "text": [
      "1  est-il premier?  False\n",
      "2  est-il premier?  True\n",
      "3  est-il premier?  True\n",
      "4  est-il premier?  False\n",
      "5  est-il premier?  True\n",
      "6  est-il premier?  False\n",
      "7  est-il premier?  True\n",
      "8  est-il premier?  False\n",
      "9  est-il premier?  False\n",
      "10  est-il premier?  False\n",
      "11  est-il premier?  True\n",
      "12  est-il premier?  False\n",
      "13  est-il premier?  True\n",
      "14  est-il premier?  False\n",
      "15  est-il premier?  False\n",
      "16  est-il premier?  False\n",
      "17  est-il premier?  True\n",
      "18  est-il premier?  False\n",
      "19  est-il premier?  True\n",
      "20  est-il premier?  False\n",
      "21  est-il premier?  False\n",
      "22  est-il premier?  False\n",
      "23  est-il premier?  True\n",
      "24  est-il premier?  False\n",
      "25  est-il premier?  False\n",
      "26  est-il premier?  False\n",
      "27  est-il premier?  False\n",
      "28  est-il premier?  False\n",
      "29  est-il premier?  True\n"
     ]
    }
   ],
   "source": [
    "for x in range(1, 30):\n",
    "    print(x, \" est-il premier? \", est_premier(x))"
   ]
  },
  {
   "cell_type": "code",
   "execution_count": 131,
   "metadata": {},
   "outputs": [],
   "source": [
    "def pourcentage_premiers(n):\n",
    "    \"\"\"Renvoit le pourcentage de nombres premiers entre 1 et n\"\"\"\n",
    "    nombre = 0\n",
    "    for x in range(1, n+1):\n",
    "        if est_premier(x):\n",
    "            nombre += 1\n",
    "    return nombre*100/n"
   ]
  },
  {
   "cell_type": "code",
   "execution_count": 132,
   "metadata": {},
   "outputs": [
    {
     "data": {
      "text/plain": [
       "40.0"
      ]
     },
     "execution_count": 132,
     "metadata": {},
     "output_type": "execute_result"
    }
   ],
   "source": [
    "pourcentage_premiers(20)"
   ]
  },
  {
   "cell_type": "code",
   "execution_count": 133,
   "metadata": {},
   "outputs": [
    {
     "data": {
      "text/plain": [
       "25.0"
      ]
     },
     "execution_count": 133,
     "metadata": {},
     "output_type": "execute_result"
    }
   ],
   "source": [
    "pourcentage_premiers(100)"
   ]
  },
  {
   "cell_type": "code",
   "execution_count": 134,
   "metadata": {},
   "outputs": [
    {
     "data": {
      "text/plain": [
       "16.8"
      ]
     },
     "execution_count": 134,
     "metadata": {},
     "output_type": "execute_result"
    }
   ],
   "source": [
    "pourcentage_premiers(1000)"
   ]
  },
  {
   "cell_type": "markdown",
   "metadata": {},
   "source": [
    "# Interaction avec des fichiers"
   ]
  },
  {
   "cell_type": "markdown",
   "metadata": {},
   "source": [
    "**La fonction de base à utilisée est** `open`, **qui prend en premier argument le nom de fichier et en deuxième le mode d'ouverture**\n",
    "\n",
    "- 'r' : pour \"read\", le fichier devra exister\n",
    "- 'w' : pour \"write\", si le fichier n'existe pas il sera crée, s'il existe le contenu sera écrasé\n",
    "- 'a' : pour \"append\", on rajoutera le contenu souhaité après celui qui existe déja"
   ]
  },
  {
   "cell_type": "code",
   "execution_count": 135,
   "metadata": {},
   "outputs": [],
   "source": [
    "fichier = open(\"fichier.txt\", \"w\")"
   ]
  },
  {
   "cell_type": "code",
   "execution_count": 136,
   "metadata": {},
   "outputs": [
    {
     "data": {
      "text/plain": [
       "14"
      ]
     },
     "execution_count": 136,
     "metadata": {},
     "output_type": "execute_result"
    }
   ],
   "source": [
    "fichier.write(\"Première ligne\\n\")\n",
    "fichier.write(\"Deuxième ligne\")"
   ]
  },
  {
   "cell_type": "markdown",
   "metadata": {},
   "source": [
    "**On pensera bien à toujours fermer le fichier une fois qu'on a fini de l'utiliser.**"
   ]
  },
  {
   "cell_type": "code",
   "execution_count": 137,
   "metadata": {},
   "outputs": [],
   "source": [
    "fichier.close()"
   ]
  },
  {
   "cell_type": "markdown",
   "metadata": {},
   "source": [
    "**Il existe une syntaxe plus sophistiqué mais standard pour garantir la fermeture du fichier, même si des erreurs ont lieu.**"
   ]
  },
  {
   "cell_type": "code",
   "execution_count": 138,
   "metadata": {},
   "outputs": [],
   "source": [
    "with open(\"fichier.txt\", \"r\") as mon_fichier:\n",
    "    lignes = mon_fichier.readlines()"
   ]
  },
  {
   "cell_type": "code",
   "execution_count": 139,
   "metadata": {},
   "outputs": [
    {
     "name": "stdout",
     "output_type": "stream",
     "text": [
      "Première ligne\n",
      "\n",
      "Deuxième ligne\n"
     ]
    }
   ],
   "source": [
    "for ligne in lignes:\n",
    "    print(ligne)"
   ]
  },
  {
   "cell_type": "markdown",
   "metadata": {},
   "source": [
    "# Exercices"
   ]
  },
  {
   "cell_type": "markdown",
   "metadata": {},
   "source": [
    "**Exercice**  \n",
    "déterminer la proportion de nombres premier parmi les $n$ premiers termes de la suite de Fibonacci pour $n$ valant 10, 100 et 1000.\n"
   ]
  },
  {
   "cell_type": "code",
   "execution_count": 142,
   "metadata": {},
   "outputs": [],
   "source": [
    "def prop_fib(n):\n",
    "    nombres = fibo(n)\n",
    "    nb_premiers = sum(1 for nb in nombres if est_premier(nb))\n",
    "    return nb_premiers/len(nombres)"
   ]
  },
  {
   "cell_type": "code",
   "execution_count": 143,
   "metadata": {},
   "outputs": [
    {
     "data": {
      "text/plain": [
       "0.4"
      ]
     },
     "execution_count": 143,
     "metadata": {},
     "output_type": "execute_result"
    }
   ],
   "source": [
    "prop_fib(10)"
   ]
  },
  {
   "cell_type": "code",
   "execution_count": 145,
   "metadata": {},
   "outputs": [
    {
     "data": {
      "text/plain": [
       "0.35"
      ]
     },
     "execution_count": 145,
     "metadata": {},
     "output_type": "execute_result"
    }
   ],
   "source": [
    "prop_fib(20)"
   ]
  },
  {
   "cell_type": "code",
   "execution_count": 146,
   "metadata": {},
   "outputs": [
    {
     "data": {
      "text/plain": [
       "0.3"
      ]
     },
     "execution_count": 146,
     "metadata": {},
     "output_type": "execute_result"
    }
   ],
   "source": [
    "prop_fib(30)"
   ]
  },
  {
   "cell_type": "markdown",
   "metadata": {},
   "source": [
    "**On n'oubliera pas que les nombres de fibonacci croissent à vitesse exponentielle d'où la taille un peu trop grande de** `fibo(1000)`."
   ]
  },
  {
   "cell_type": "markdown",
   "metadata": {},
   "source": [
    "**Exercice**  \n",
    "Coder une fonction prenant en entrée deux nombres entiers $a$ et $b$ et affichant la table de multiplication des nombres entre $a$ et $b$."
   ]
  },
  {
   "cell_type": "code",
   "execution_count": 182,
   "metadata": {},
   "outputs": [],
   "source": [
    "def resultat(a, b):\n",
    "    \"\"\"Génération des valeurs prises pour la table de multiplications\n",
    "    \"\"\"\n",
    "    a, b = min(a,b), max(a,b)\n",
    "    table = dict()\n",
    "    nb_car = len(str(b**2))\n",
    "    form = str(nb_car) + \"d\"\n",
    "    premiere_ligne = [\" \"*(nb_car-1) +\"x\"]\n",
    "    for j in range(a, b+1):\n",
    "        premiere_ligne.append(format(j, form))\n",
    "    ligne_temoin = \" | \".join(premiere_ligne)\n",
    "    print(ligne_temoin)\n",
    "    for i in range(a, b+1):\n",
    "        print(\"-\"*len(ligne_temoin))\n",
    "        ligne_courante = [format(i, form)]\n",
    "        for j in range(a, b+1):\n",
    "            ligne_courante.append(format(i*j, form))\n",
    "        print(\" | \".join(ligne_courante))"
   ]
  },
  {
   "cell_type": "code",
   "execution_count": 183,
   "metadata": {},
   "outputs": [
    {
     "name": "stdout",
     "output_type": "stream",
     "text": [
      "  x |   1 |   2 |   3 |   4 |   5 |   6 |   7 |   8 |   9 |  10\n",
      "---------------------------------------------------------------\n",
      "  1 |   1 |   2 |   3 |   4 |   5 |   6 |   7 |   8 |   9 |  10\n",
      "---------------------------------------------------------------\n",
      "  2 |   2 |   4 |   6 |   8 |  10 |  12 |  14 |  16 |  18 |  20\n",
      "---------------------------------------------------------------\n",
      "  3 |   3 |   6 |   9 |  12 |  15 |  18 |  21 |  24 |  27 |  30\n",
      "---------------------------------------------------------------\n",
      "  4 |   4 |   8 |  12 |  16 |  20 |  24 |  28 |  32 |  36 |  40\n",
      "---------------------------------------------------------------\n",
      "  5 |   5 |  10 |  15 |  20 |  25 |  30 |  35 |  40 |  45 |  50\n",
      "---------------------------------------------------------------\n",
      "  6 |   6 |  12 |  18 |  24 |  30 |  36 |  42 |  48 |  54 |  60\n",
      "---------------------------------------------------------------\n",
      "  7 |   7 |  14 |  21 |  28 |  35 |  42 |  49 |  56 |  63 |  70\n",
      "---------------------------------------------------------------\n",
      "  8 |   8 |  16 |  24 |  32 |  40 |  48 |  56 |  64 |  72 |  80\n",
      "---------------------------------------------------------------\n",
      "  9 |   9 |  18 |  27 |  36 |  45 |  54 |  63 |  72 |  81 |  90\n",
      "---------------------------------------------------------------\n",
      " 10 |  10 |  20 |  30 |  40 |  50 |  60 |  70 |  80 |  90 | 100\n"
     ]
    }
   ],
   "source": [
    "resultat(1, 10)"
   ]
  },
  {
   "cell_type": "markdown",
   "metadata": {},
   "source": [
    "**Exercice**  \n",
    "On représentera des matrices par des listes de listes, écrire des fonctions permettant de récupérer les dimensions d'une matrice, de faire la somme et le produit de deux matrices.  \n",
    "Exemples de manipulations."
   ]
  },
  {
   "cell_type": "code",
   "execution_count": 184,
   "metadata": {},
   "outputs": [
    {
     "name": "stdout",
     "output_type": "stream",
     "text": [
      "[[1, 2, 3], [4, 5, 6], [7, 8, 9]]\n"
     ]
    }
   ],
   "source": [
    "A = [[1,2,3],\n",
    "     [4,5,6],\n",
    "     [7,8,9]]\n",
    "print(A)"
   ]
  },
  {
   "cell_type": "code",
   "execution_count": 185,
   "metadata": {},
   "outputs": [],
   "source": [
    "def affichage_de_matrice(A):\n",
    "    for ligne in A:\n",
    "        print(ligne)"
   ]
  },
  {
   "cell_type": "code",
   "execution_count": 186,
   "metadata": {},
   "outputs": [
    {
     "name": "stdout",
     "output_type": "stream",
     "text": [
      "[1, 2, 3]\n",
      "[4, 5, 6]\n",
      "[7, 8, 9]\n"
     ]
    }
   ],
   "source": [
    "affichage_de_matrice(A)"
   ]
  },
  {
   "cell_type": "code",
   "execution_count": 187,
   "metadata": {},
   "outputs": [],
   "source": [
    "def dimensions(A):\n",
    "    n = len(A)\n",
    "    m = len(A[0])\n",
    "    return n, m"
   ]
  },
  {
   "cell_type": "code",
   "execution_count": 188,
   "metadata": {},
   "outputs": [
    {
     "data": {
      "text/plain": [
       "(3, 3)"
      ]
     },
     "execution_count": 188,
     "metadata": {},
     "output_type": "execute_result"
    }
   ],
   "source": [
    "dimensions(A)"
   ]
  },
  {
   "cell_type": "code",
   "execution_count": 189,
   "metadata": {},
   "outputs": [],
   "source": [
    "def somme(A,B):\n",
    "    n,m = dimensions(A)\n",
    "    assert dimensions(B) == (n,m)\n",
    "    resultat = [ [] for i in range(n)]\n",
    "    for i in range(n):\n",
    "        for j in range(m):\n",
    "            resultat[i].append(A[i][j]+B[i][j])\n",
    "    return resultat\n",
    "    "
   ]
  },
  {
   "cell_type": "code",
   "execution_count": 191,
   "metadata": {},
   "outputs": [
    {
     "name": "stdout",
     "output_type": "stream",
     "text": [
      "[2, 4, 6]\n",
      "[8, 10, 12]\n",
      "[14, 16, 18]\n"
     ]
    }
   ],
   "source": [
    "affichage_de_matrice(somme(A, A))"
   ]
  },
  {
   "cell_type": "code",
   "execution_count": 192,
   "metadata": {},
   "outputs": [],
   "source": [
    "def produit(A, B):\n",
    "    na, ma = dimensions(A)\n",
    "    nb, mb = dimensions(B)\n",
    "    assert ma == nb\n",
    "    resultat = [[] for i in range(na)]\n",
    "    for i in range(na):\n",
    "        for j in range(mb):\n",
    "            s = 0\n",
    "            for k in range(ma):\n",
    "                s += A[i][k]*B[k][j]\n",
    "            resultat[i].append(s)\n",
    "    return resultat\n",
    "                "
   ]
  },
  {
   "cell_type": "code",
   "execution_count": 193,
   "metadata": {},
   "outputs": [
    {
     "name": "stdout",
     "output_type": "stream",
     "text": [
      "[1, 0, 0]\n",
      "[0, 1, 0]\n",
      "[0, 0, 1]\n"
     ]
    }
   ],
   "source": [
    "I = [[1,0,0],[0,1,0],[0,0,1]]\n",
    "affichage_de_matrice(I)"
   ]
  },
  {
   "cell_type": "code",
   "execution_count": 194,
   "metadata": {},
   "outputs": [
    {
     "name": "stdout",
     "output_type": "stream",
     "text": [
      "[1, 2, 3]\n",
      "[4, 5, 6]\n",
      "[7, 8, 9]\n"
     ]
    }
   ],
   "source": [
    "affichage_de_matrice(produit(A,I))"
   ]
  },
  {
   "cell_type": "code",
   "execution_count": 195,
   "metadata": {},
   "outputs": [
    {
     "name": "stdout",
     "output_type": "stream",
     "text": [
      "[1, 1, 1]\n",
      "[1, 1, 1]\n",
      "[1, 1, 1]\n"
     ]
    }
   ],
   "source": [
    "J = [[1 for j in range(3)] for i in range(3)]\n",
    "affichage_de_matrice(J)"
   ]
  },
  {
   "cell_type": "code",
   "execution_count": 196,
   "metadata": {},
   "outputs": [
    {
     "name": "stdout",
     "output_type": "stream",
     "text": [
      "[12, 15, 18]\n",
      "[12, 15, 18]\n",
      "[12, 15, 18]\n"
     ]
    }
   ],
   "source": [
    "affichage_de_matrice(produit(J, A))"
   ]
  }
 ],
 "metadata": {
  "anaconda-cloud": {},
  "kernelspec": {
   "display_name": "Python 3",
   "language": "python",
   "name": "python3"
  },
  "language_info": {
   "codemirror_mode": {
    "name": "ipython",
    "version": 3
   },
   "file_extension": ".py",
   "mimetype": "text/x-python",
   "name": "python",
   "nbconvert_exporter": "python",
   "pygments_lexer": "ipython3",
   "version": "3.6.6"
  },
  "latex_envs": {
   "LaTeX_envs_menu_present": true,
   "autoclose": false,
   "autocomplete": true,
   "bibliofile": "biblio.bib",
   "cite_by": "apalike",
   "current_citInitial": 1,
   "eqLabelWithNumbers": true,
   "eqNumInitial": 1,
   "hotkeys": {
    "equation": "Ctrl-E",
    "itemize": "Ctrl-I"
   },
   "labels_anchors": false,
   "latex_user_defs": false,
   "report_style_numbering": false,
   "user_envs_cfg": false
  },
  "toc": {
   "base_numbering": 1,
   "nav_menu": {},
   "number_sections": true,
   "sideBar": true,
   "skip_h1_title": false,
   "title_cell": "Table of Contents",
   "title_sidebar": "Contents",
   "toc_cell": false,
   "toc_position": {},
   "toc_section_display": true,
   "toc_window_display": false
  }
 },
 "nbformat": 4,
 "nbformat_minor": 2
}
