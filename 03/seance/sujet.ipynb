{
 "cells": [
  {
   "cell_type": "markdown",
   "metadata": {},
   "source": [
    "# Attention \n",
    "\n",
    "**Pour faire des calculs efficacement et afficher des graphiques on importera toujours les modules suivants.**"
   ]
  },
  {
   "cell_type": "code",
   "execution_count": null,
   "metadata": {},
   "outputs": [],
   "source": [
    "import numpy as np\n",
    "import matplotlib.pyplot as plt"
   ]
  },
  {
   "cell_type": "markdown",
   "metadata": {},
   "source": [
    "**La commande suivante demande l'incrustation des graphes dans le document.**"
   ]
  },
  {
   "cell_type": "code",
   "execution_count": null,
   "metadata": {},
   "outputs": [],
   "source": [
    "%matplotlib inline"
   ]
  },
  {
   "cell_type": "markdown",
   "metadata": {},
   "source": [
    "**Enfin pour modifier la taille des figures dans tout ce qui suit, on utilise**"
   ]
  },
  {
   "cell_type": "code",
   "execution_count": null,
   "metadata": {},
   "outputs": [],
   "source": [
    "plt.rc(\"figure\", figsize=(12, 8))"
   ]
  },
  {
   "cell_type": "markdown",
   "metadata": {},
   "source": [
    "# Tableaux de nombres avec `numpy`."
   ]
  },
  {
   "cell_type": "markdown",
   "metadata": {},
   "source": [
    "La bibliothèque `numpy` fournit une structure de tableau de nombres `ndarray` (comme à priori les listes) mais la syntaxe d'utilisation est plus simple et les calculs plus efficaces."
   ]
  },
  {
   "cell_type": "markdown",
   "metadata": {},
   "source": [
    "## Exécuter les commandes suivantes."
   ]
  },
  {
   "cell_type": "code",
   "execution_count": null,
   "metadata": {},
   "outputs": [],
   "source": [
    "x_l = [1,2,3,4]\n",
    "y_l = [4,3,2,1]\n",
    "print(type(x_l), x_l, y_l)\n",
    "x_t = np.array(x_l)\n",
    "y_t = np.array(y_l)\n",
    "print(type(x_t), x_t, y_t)"
   ]
  },
  {
   "cell_type": "code",
   "execution_count": null,
   "metadata": {},
   "outputs": [],
   "source": [
    "s_l = [x+y for x,y in zip(x_l, y_l)]\n",
    "print(type(s_l), s_l)\n",
    "\n",
    "s_t = x_t+y_t\n",
    "print(type(s_t), s_t)"
   ]
  },
  {
   "cell_type": "code",
   "execution_count": null,
   "metadata": {},
   "outputs": [],
   "source": [
    "p_l = [x*y for x,y in zip(x_l, y_l)]\n",
    "print(type(p_l), p_l)\n",
    "\n",
    "p_t = x_t*y_t\n",
    "print(type(p_t), p_t)"
   ]
  },
  {
   "cell_type": "code",
   "execution_count": null,
   "metadata": {},
   "outputs": [],
   "source": [
    "c_l = [x**2 for x in x_l]\n",
    "print(type(c_l), c_l)\n",
    "\n",
    "u_t = x_t**2\n",
    "print(type(u_t), u_t)"
   ]
  },
  {
   "cell_type": "code",
   "execution_count": null,
   "metadata": {},
   "outputs": [],
   "source": [
    "b_l = [x<y for x,y in zip(x_l, y_l)]\n",
    "print(b_l)\n",
    "b_t = x_t < y_t\n",
    "print(b_t)"
   ]
  },
  {
   "cell_type": "markdown",
   "metadata": {},
   "source": [
    "## Que constatez-vous?"
   ]
  },
  {
   "cell_type": "markdown",
   "metadata": {},
   "source": [
    "## Consulter la documentation des fonctions suivantes\n",
    "\n",
    "- `np.ones`\n",
    "- `np.zeros`\n",
    "- `np.linspace`\n",
    "- `np.arange`"
   ]
  },
  {
   "cell_type": "markdown",
   "metadata": {},
   "source": [
    "## Créer les tableaux suivants\n",
    "\n",
    "- `x` sera de taille 100 et contiendra le nombre 1 répété\n",
    "- `y` sera de taille 100 aussi mais contiendra les nombres de 1 à 100\n",
    "- `z` contiendra 200 nombres entre 0 et 1, espacés régulièrement."
   ]
  },
  {
   "cell_type": "markdown",
   "metadata": {},
   "source": [
    "## Pour comparer les vitesses entre listes et tableaux on exécutera le code suivant"
   ]
  },
  {
   "cell_type": "code",
   "execution_count": null,
   "metadata": {},
   "outputs": [],
   "source": [
    "valeurs = np.random.random(size=(10**7))\n",
    "%time resultat = valeurs**2"
   ]
  },
  {
   "cell_type": "code",
   "execution_count": null,
   "metadata": {},
   "outputs": [],
   "source": [
    "liste = list(valeurs)\n",
    "%time resultat = [x**2 for x in liste]"
   ]
  },
  {
   "cell_type": "markdown",
   "metadata": {},
   "source": [
    "## Attention\n",
    "**On essayera au maximum de ne pas mélanger les tableaux `numpy` avec les autres fonctions python sous peine d'avoir un code beaucoup moins rapide.**  \n",
    "**On executera le code suivant pour s'en convaincre.**"
   ]
  },
  {
   "cell_type": "code",
   "execution_count": null,
   "metadata": {},
   "outputs": [],
   "source": [
    "valeurs = np.random.random(size=(10**7))\n",
    "print(\"Pour les tableaux:\")\n",
    "%time np.max(valeurs)\n",
    "print(\"Pour les listes:\")\n",
    "%time max(valeurs)"
   ]
  },
  {
   "cell_type": "markdown",
   "metadata": {},
   "source": [
    "## Remarque \n",
    "\n",
    "**la structure s'appelle `ndarray` car il s'agit en fait d'un tableau multi-d, d'où le paramètre `size` de certaines commandes de création.**  \n",
    "**Exécuter les commandes suivantes pour s'en convaincre.**"
   ]
  },
  {
   "cell_type": "code",
   "execution_count": null,
   "metadata": {},
   "outputs": [],
   "source": [
    "np.random.random(size=(2,3,4))"
   ]
  },
  {
   "cell_type": "code",
   "execution_count": null,
   "metadata": {},
   "outputs": [],
   "source": [
    "np.ones(shape=(5,5))"
   ]
  },
  {
   "cell_type": "code",
   "execution_count": null,
   "metadata": {},
   "outputs": [],
   "source": [
    "x = np.linspace(0, 1, 9)\n",
    "print(x.shape, x)\n",
    "x.shape = 3,3\n",
    "print(x.shape, x)"
   ]
  },
  {
   "cell_type": "markdown",
   "metadata": {},
   "source": [
    "**Les manipulations multi-d suivent des règles potentiellement délicates. On pourra jeter un coup d'oeil au dernier exercice de ce TP pour s'en convaincre. On les rencontrera plus en détail plus tard dans ce semestre.**"
   ]
  },
  {
   "cell_type": "markdown",
   "metadata": {},
   "source": [
    "## Conclusion \n",
    "\n",
    "Si on a deux listes de nombres que l'on veut additionner (ou autres opérations) on commencera par les convertir en tableau `numpy`."
   ]
  },
  {
   "cell_type": "code",
   "execution_count": null,
   "metadata": {},
   "outputs": [],
   "source": [
    "liste_a, liste_b = [1,2,3,4,5], [1,4,2,3,5]\n",
    "a, b = np.array(liste_a), np.array(liste_b)\n",
    "resultat = a+b"
   ]
  },
  {
   "cell_type": "markdown",
   "metadata": {},
   "source": [
    "# Premier graphe"
   ]
  },
  {
   "cell_type": "markdown",
   "metadata": {},
   "source": [
    "## Exécuter les commandes suivantes."
   ]
  },
  {
   "cell_type": "code",
   "execution_count": null,
   "metadata": {},
   "outputs": [],
   "source": [
    "x = np.linspace(0.0,5.0,20)\n",
    "print(x)"
   ]
  },
  {
   "cell_type": "code",
   "execution_count": null,
   "metadata": {},
   "outputs": [],
   "source": [
    "y = np.sin(x)\n",
    "plt.plot(x, y)"
   ]
  },
  {
   "cell_type": "markdown",
   "metadata": {},
   "source": [
    "## On retiendra que l'on passe  abcisses puis ordonnées. Comment lisser le graphe ci-dessus?"
   ]
  },
  {
   "cell_type": "markdown",
   "metadata": {},
   "source": [
    "## Afficher le graphe des fonctions suivantes :\n",
    "$$y=\\cos(x)\\sin(x),\\qquad y=5e^{-x/7},\\qquad y=2x(1-x).$$"
   ]
  },
  {
   "cell_type": "markdown",
   "metadata": {},
   "source": [
    "## Exécuter les commandes suivantes"
   ]
  },
  {
   "cell_type": "code",
   "execution_count": null,
   "metadata": {},
   "outputs": [],
   "source": [
    "plt.plot((0, 1), (0,2))"
   ]
  },
  {
   "cell_type": "code",
   "execution_count": null,
   "metadata": {},
   "outputs": [],
   "source": [
    "plt.plot([0,1], [0,1])"
   ]
  },
  {
   "cell_type": "markdown",
   "metadata": {},
   "source": [
    "## Qu'en déduisez-vous sur la nature des arguments?"
   ]
  },
  {
   "cell_type": "markdown",
   "metadata": {},
   "source": [
    "# Premières Options"
   ]
  },
  {
   "cell_type": "markdown",
   "metadata": {},
   "source": [
    "## Exécuter les cellules suivantes."
   ]
  },
  {
   "cell_type": "code",
   "execution_count": null,
   "metadata": {},
   "outputs": [],
   "source": [
    "x = np.linspace(-np.pi,np.pi,200)\n",
    "y = np.sin(2.0*x)-2.0*np.cos(3.0*x)\n",
    "plt.plot(x, y, color='red', ls='--', lw=2)"
   ]
  },
  {
   "cell_type": "code",
   "execution_count": null,
   "metadata": {},
   "outputs": [],
   "source": [
    "t = np.linspace(-np.pi, np.pi,50)\n",
    "x = 2.0*np.cos(t)\n",
    "y = np.sin(t)\n",
    "plt.plot(x, y, \n",
    "         color='blue', \n",
    "         linestyle='-', \n",
    "         linewidth=2 ,\n",
    "         marker='o')"
   ]
  },
  {
   "cell_type": "code",
   "execution_count": null,
   "metadata": {},
   "outputs": [],
   "source": [
    "t = np.linspace(0.0,1.5,100)\n",
    "x = np.sqrt(t)\n",
    "y = t**2\n",
    "z = t**3\n",
    "plt.plot(t, x, \n",
    "         linewidth=2.0, \n",
    "         label=r'$y=\\sqrt{x}$')\n",
    "plt.plot(t, t, \n",
    "         linewidth=2.0, \n",
    "         label=r'$y=x$')\n",
    "plt.plot(t, y, \n",
    "         linewidth=2.0, \n",
    "         label=r'$y=x^2$')\n",
    "plt.plot(t, z, \n",
    "         linewidth=2.0, \n",
    "         label=r'$y=x^3$')\n",
    "plt.legend(loc='best')\n",
    "plt.title(u'Graphe des premières puissances')"
   ]
  },
  {
   "cell_type": "code",
   "execution_count": null,
   "metadata": {},
   "outputs": [],
   "source": [
    "x, y = np.random.random(size=(2,100))\n",
    "plt.scatter(x,y)\n",
    "plt.xlim([0.0,1.0])\n",
    "plt.ylim([0.0,1.0])"
   ]
  },
  {
   "cell_type": "markdown",
   "metadata": {},
   "source": [
    "*On notera qu'il est possible de sauvegarder une figure en utilisant la fonction `plt.savefig`. Consulter la documentation pour les détails.*"
   ]
  },
  {
   "cell_type": "markdown",
   "metadata": {},
   "source": [
    "## On s'inspirera des exemples précédents et de la documentation pour tracer les graphes suivants."
   ]
  },
  {
   "cell_type": "markdown",
   "metadata": {},
   "source": [
    "- sur la même figure : $y=x$ en rouge pointillé et $y=4x(1-x)$ en bleu continu large  \n",
    "- la courbe paramétrée : $x=\\cos(t)$, $y=2\\sin(2t)$ en trait large, avec les points d'interpolation apparents\n",
    "- la courbe $x=\\sin(t)(e^{\\cos(t)}-2\\cos(4t)-\\sin^5\\left(\\frac{t}{12}\\right))$ et $y=\\cos(t)(e^{\\cos(t)}-2\\cos(4t)-\\sin^5\\left(\\frac{t}{12}\\right))$,\n",
    "- la suite de points $P_n=(x_n,y_n)$ où $x_{n+1}=1.0-1.4x_n^2+y_n$ et $y_{n+1}=0.3 x_n$ avec des valeurs initiales prises au hasard"
   ]
  },
  {
   "cell_type": "markdown",
   "metadata": {},
   "source": [
    "**On pourra consulter cette [gallerie](http://matplotlib.org/gallery.html) pour plus d'exemples.**"
   ]
  },
  {
   "cell_type": "markdown",
   "metadata": {},
   "source": [
    "# Un exemple plus sophistiqué : les ensembles de Julia\n",
    "## Exécuter le code suivant.\n",
    "\n",
    "**Attention** en python le nombre $i$ s'obtient en fait par `1j` ou aussi `complex(0,1)`."
   ]
  },
  {
   "cell_type": "code",
   "execution_count": null,
   "metadata": {},
   "outputs": [],
   "source": [
    "def julia(z):\n",
    "    return z**2+0.285+0.01j\n",
    "\n",
    "x_m, x_M, y_m, y_M = -1, 1, -1, 1\n",
    "largeur, hauteur = 400, 400\n",
    "x = np.linspace(x_m, x_M, largeur)\n",
    "y = np.linspace(y_m, y_M, hauteur)\n",
    "\n",
    "# deux lignes plus subtiles, à analyser en dernier\n",
    "z = x[np.newaxis, :] +1j*y[:, np.newaxis]\n",
    "iterations = np.zeros_like(z, dtype=np.int)\n",
    "\n",
    "lim = 10\n",
    "iterations_max = 100\n",
    "for i in range(iterations_max):\n",
    "    bornes = np.abs(z)<lim\n",
    "    iterations[bornes] += 1\n",
    "    z[bornes] = julia(z[bornes])\n",
    "\n",
    "plt.imshow(iterations, \n",
    "           extent=(x_m, x_M, y_m, y_M),\n",
    "           cmap=\"viridis\"\n",
    "           );"
   ]
  },
  {
   "cell_type": "markdown",
   "metadata": {},
   "source": [
    "On pourra consulter cette [référence](https://fr.wikipedia.org/wiki/Ensemble_de_Julia) pour la justification mathématiques du code suivant."
   ]
  },
  {
   "cell_type": "markdown",
   "metadata": {},
   "source": [
    "## Modifier les paramètres suivants pour analyser le script\n",
    "- `largeur` et `hauteur` (en restant dans la limite du raisonnable sous peine de faire planter le code)\n",
    "- `x_m`, `x_M` etc...\n",
    "- `lim` et `iterations_max`\n",
    "- la fonction de récurrence `julia`, on pourra s'inspirer de la page wikipédia déjà référencée (ou pas)"
   ]
  },
  {
   "cell_type": "markdown",
   "metadata": {},
   "source": [
    "## Reprendre les lignes 10 et 11, en affichant la forme et le type de `z` et `iterations`, que se passe-t-il?"
   ]
  },
  {
   "cell_type": "markdown",
   "metadata": {},
   "source": [
    "# Exercice : la ruine du joueur"
   ]
  },
  {
   "cell_type": "markdown",
   "metadata": {},
   "source": [
    "1. Simuler la loi d'un joueur ayant une fortune initiale `fortune_ini` entre $0$ et $100$, et qui joue à pile ou face en gagnant (ou perdant ) $1$ à chaque fois et ce jusqu'à ce que qu'il soit ruiné (il atteint $0$) ou qu'il fasse fortune (il atteint $100$) . \n",
    "2. Appliquer la méthode précédente au jeu de la [roulette](https://fr.wikipedia.org/wiki/Roulette_(jeu_de_hasard)) (quand on mise sur la couleur) pour les casinos. Que constatez-vous?"
   ]
  }
 ],
 "metadata": {
  "anaconda-cloud": {},
  "kernelspec": {
   "display_name": "Python 3",
   "language": "python",
   "name": "python3"
  },
  "language_info": {
   "codemirror_mode": {
    "name": "ipython",
    "version": 3
   },
   "file_extension": ".py",
   "mimetype": "text/x-python",
   "name": "python",
   "nbconvert_exporter": "python",
   "pygments_lexer": "ipython3",
   "version": "3.6.6"
  },
  "latex_envs": {
   "LaTeX_envs_menu_present": true,
   "autoclose": false,
   "autocomplete": true,
   "bibliofile": "biblio.bib",
   "cite_by": "apalike",
   "current_citInitial": 1,
   "eqLabelWithNumbers": true,
   "eqNumInitial": 1,
   "hotkeys": {
    "equation": "Ctrl-E",
    "itemize": "Ctrl-I"
   },
   "labels_anchors": false,
   "latex_user_defs": false,
   "report_style_numbering": false,
   "user_envs_cfg": false
  },
  "toc": {
   "base_numbering": 1,
   "nav_menu": {},
   "number_sections": true,
   "sideBar": true,
   "skip_h1_title": false,
   "title_cell": "Table of Contents",
   "title_sidebar": "Contents",
   "toc_cell": false,
   "toc_position": {},
   "toc_section_display": true,
   "toc_window_display": false
  }
 },
 "nbformat": 4,
 "nbformat_minor": 2
}
